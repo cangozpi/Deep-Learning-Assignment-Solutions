{
 "cells": [
  {
   "cell_type": "markdown",
   "metadata": {},
   "source": [
    "# Assignment 1: MLPs and Backpropagation\n",
    "### <font color='blue'> Due on November 4, 2022 (23:59:59) </font>\n",
    "\n",
    "Welcome to Comp541: Deep Learning Course! \n",
    "\n",
    "Before you start, make sure you read the README.txt in the same directory as this notebook for important setup information. A lot of code is provided in this notebook, and we highly encourage you to read and understand it as part of the learning.\n",
    "\n",
    "**Assignment Notes:** Please make sure to save the notebook as you go along. Submission Instructions are located at the bottom of the notebook."
   ]
  },
  {
   "cell_type": "code",
   "execution_count": 1570,
   "metadata": {},
   "outputs": [
    {
     "name": "stderr",
     "output_type": "stream",
     "text": [
      "[nltk_data] Downloading package reuters to /home/cangozpi/nltk_data...\n",
      "[nltk_data]   Package reuters is already up-to-date!\n"
     ]
    }
   ],
   "source": [
    "# All Import Statements Defined Here\n",
    "# Note: Do not add to this list.\n",
    "# ----------------\n",
    "\n",
    "import sys\n",
    "assert sys.version_info[0]==3\n",
    "assert sys.version_info[1] >= 5\n",
    "\n",
    "from gensim.models import KeyedVectors\n",
    "from gensim.test.utils import datapath\n",
    "import pprint\n",
    "import matplotlib.pyplot as plt\n",
    "plt.rcParams['figure.figsize'] = [10, 5]\n",
    "import nltk\n",
    "nltk.download('reuters')\n",
    "from nltk.corpus import reuters\n",
    "import numpy as np\n",
    "import random\n",
    "import scipy as sp\n",
    "from sklearn.decomposition import TruncatedSVD\n",
    "from sklearn.decomposition import PCA\n",
    "\n",
    "START_TOKEN = '<START>'\n",
    "END_TOKEN = '<END>'\n",
    "\n",
    "np.random.seed(0)\n",
    "random.seed(0)\n",
    "# ----------------"
   ]
  },
  {
   "cell_type": "markdown",
   "metadata": {},
   "source": [
    "## Word Vectors\n",
    "\n",
    "Word Vectors are often used as a fundamental component for downstream NLP tasks, e.g. question answering, text generation, translation, etc., so it is important to build some intuitions as to their strengths and weaknesses. Here, you will explore two types of word vectors: those derived from *co-occurrence matrices*, and those derived via *GloVe*. \n",
    "\n",
    "**Note on Terminology:** The terms \"word vectors\" and \"word embeddings\" are often used interchangeably. The term \"embedding\" refers to the fact that we are encoding aspects of a word's meaning in a lower dimensional space. As [Wikipedia](https://en.wikipedia.org/wiki/Word_embedding) states, \"*conceptually it involves a mathematical embedding from a space with one dimension per word to a continuous vector space with a much lower dimension*\"."
   ]
  },
  {
   "cell_type": "markdown",
   "metadata": {},
   "source": [
    "## Part 1: Count-Based Word Vectors (10 points)\n",
    "\n",
    "Most word vector models start from the following idea:\n",
    "\n",
    "*You shall know a word by the company it keeps ([Firth, J. R. 1957:11](https://en.wikipedia.org/wiki/John_Rupert_Firth))*\n",
    "\n",
    "Many word vector implementations are driven by the idea that similar words, i.e., (near) synonyms, will be used in similar contexts. As a result, similar words will often be spoken or written along with a shared subset of words, i.e., contexts. By examining these contexts, we can try to develop embeddings for our words. With this intuition in mind, many \"old school\" approaches to constructing word vectors relied on word counts. Here we elaborate upon one of those strategies, *co-occurrence matrices* (for more information, see [here](http://web.stanford.edu/class/cs124/lec/vectorsemantics.video.pdf) or [here](https://medium.com/data-science-group-iitr/word-embedding-2d05d270b285))."
   ]
  },
  {
   "cell_type": "markdown",
   "metadata": {},
   "source": [
    "### Co-Occurrence\n",
    "\n",
    "A co-occurrence matrix counts how often things co-occur in some environment. Given some word $w_i$ occurring in the document, we consider the *context window* surrounding $w_i$. Supposing our fixed window size is $n$, then this is the $n$ preceding and $n$ subsequent words in that document, i.e. words $w_{i-n} \\dots w_{i-1}$ and $w_{i+1} \\dots w_{i+n}$. We build a *co-occurrence matrix* $M$, which is a symmetric word-by-word matrix in which $M_{ij}$ is the number of times $w_j$ appears inside $w_i$'s window among all documents.\n",
    "\n",
    "**Example: Co-Occurrence with Fixed Window of n=1**:\n",
    "\n",
    "Document 1: \"all that glitters is not gold\"\n",
    "\n",
    "Document 2: \"all is well that ends well\"\n",
    "\n",
    "\n",
    "|     *    | `<START>` | all | that | glitters | is   | not  | gold  | well | ends | `<END>` |\n",
    "|----------|-------|-----|------|----------|------|------|-------|------|------|-----|\n",
    "| `<START>`    | 0     | 2   | 0    | 0        | 0    | 0    | 0     | 0    | 0    | 0   |\n",
    "| all      | 2     | 0   | 1    | 0        | 1    | 0    | 0     | 0    | 0    | 0   |\n",
    "| that     | 0     | 1   | 0    | 1        | 0    | 0    | 0     | 1    | 1    | 0   |\n",
    "| glitters | 0     | 0   | 1    | 0        | 1    | 0    | 0     | 0    | 0    | 0   |\n",
    "| is       | 0     | 1   | 0    | 1        | 0    | 1    | 0     | 1    | 0    | 0   |\n",
    "| not      | 0     | 0   | 0    | 0        | 1    | 0    | 1     | 0    | 0    | 0   |\n",
    "| gold     | 0     | 0   | 0    | 0        | 0    | 1    | 0     | 0    | 0    | 1   |\n",
    "| well     | 0     | 0   | 1    | 0        | 1    | 0    | 0     | 0    | 1    | 1   |\n",
    "| ends     | 0     | 0   | 1    | 0        | 0    | 0    | 0     | 1    | 0    | 0   |\n",
    "| `<END>`      | 0     | 0   | 0    | 0        | 0    | 0    | 1     | 1    | 0    | 0   |\n",
    "\n",
    "**Note:** In NLP, we often add `<START>` and `<END>` tokens to represent the beginning and end of sentences, paragraphs or documents. In this case we imagine `<START>` and `<END>` tokens encapsulating each document, e.g., \"`<START>` All that glitters is not gold `<END>`\", and include these tokens in our co-occurrence counts.\n",
    "\n",
    "The rows (or columns) of this matrix provide one type of word vectors (those based on word-word co-occurrence), but the vectors will be large in general (linear in the number of distinct words in a corpus). Thus, our next step is to run *dimensionality reduction*. In particular, we will run *SVD (Singular Value Decomposition)*, which is a kind of generalized *PCA (Principal Components Analysis)* to select the top $k$ principal components. Here's a visualization of dimensionality reduction with SVD. In this picture our co-occurrence matrix is $A$ with $n$ rows corresponding to $n$ words. We obtain a full matrix decomposition, with the singular values ordered in the diagonal $S$ matrix, and our new, shorter length-$k$ word vectors in $U_k$.\n",
    "\n",
    "![Picture of an SVD](./imgs/svd.png \"SVD\")\n",
    "\n",
    "This reduced-dimensionality co-occurrence representation preserves semantic relationships between words, e.g. *doctor* and *hospital* will be closer than *doctor* and *dog*. \n",
    "\n",
    "**Notes:** If you can barely remember what an eigenvalue is, here's [a slow, friendly introduction to SVD](https://davetang.org/file/Singular_Value_Decomposition_Tutorial.pdf). If you want to learn more thoroughly about PCA or SVD, feel free to check out lectures [7](https://web.stanford.edu/class/cs168/l/l7.pdf), [8](http://theory.stanford.edu/~tim/s15/l/l8.pdf), and [9](https://web.stanford.edu/class/cs168/l/l9.pdf) of CS168. These course notes provide a great high-level treatment of these general purpose algorithms. Though, for the purpose of this class, you only need to know how to extract the k-dimensional embeddings by utilizing pre-programmed implementations of these algorithms from the numpy, scipy, or sklearn python packages. In practice, it is challenging to apply full SVD to large corpora because of the memory needed to perform PCA or SVD. However, if you only want the top $k$ vector components for relatively small $k$ — known as [Truncated SVD](https://en.wikipedia.org/wiki/Singular_value_decomposition#Truncated_SVD) — then there are reasonably scalable techniques to compute those iteratively."
   ]
  },
  {
   "cell_type": "markdown",
   "metadata": {},
   "source": [
    "### Plotting Co-Occurrence Word Embeddings\n",
    "\n",
    "Here, we will be using the Reuters (business and financial news) corpus. If you haven't run the import cell at the top of this page, please run it now (click it and press SHIFT-RETURN). The corpus consists of 10,788 news documents totaling 1.3 million words. These documents span 90 categories and are split into train and test. For more details, please see https://www.nltk.org/book/ch02.html. We provide a `read_corpus` function below that pulls out only articles from the \"crude\" (i.e. news articles about oil, gas, etc.) category. The function also adds `<START>` and `<END>` tokens to each of the documents, and lowercases words. You do **not** have to perform any other kind of pre-processing."
   ]
  },
  {
   "cell_type": "code",
   "execution_count": 1571,
   "metadata": {},
   "outputs": [],
   "source": [
    "def read_corpus(category=\"crude\"):\n",
    "    \"\"\" Read files from the specified Reuter's category.\n",
    "        Params:\n",
    "            category (string): category name\n",
    "        Return:\n",
    "            list of lists, with words from each of the processed files\n",
    "    \"\"\"\n",
    "    files = reuters.fileids(category)\n",
    "    return [[START_TOKEN] + [w.lower() for w in list(reuters.words(f))] + [END_TOKEN] for f in files]\n"
   ]
  },
  {
   "cell_type": "markdown",
   "metadata": {},
   "source": [
    "Let's have a look what these documents are like…."
   ]
  },
  {
   "cell_type": "code",
   "execution_count": 1572,
   "metadata": {
    "scrolled": false
   },
   "outputs": [
    {
     "name": "stdout",
     "output_type": "stream",
     "text": [
      "[['<START>', 'japan', 'to', 'revise', 'long', '-', 'term', 'energy', 'demand', 'downwards', 'the',\n",
      "  'ministry', 'of', 'international', 'trade', 'and', 'industry', '(', 'miti', ')', 'will', 'revise',\n",
      "  'its', 'long', '-', 'term', 'energy', 'supply', '/', 'demand', 'outlook', 'by', 'august', 'to',\n",
      "  'meet', 'a', 'forecast', 'downtrend', 'in', 'japanese', 'energy', 'demand', ',', 'ministry',\n",
      "  'officials', 'said', '.', 'miti', 'is', 'expected', 'to', 'lower', 'the', 'projection', 'for',\n",
      "  'primary', 'energy', 'supplies', 'in', 'the', 'year', '2000', 'to', '550', 'mln', 'kilolitres',\n",
      "  '(', 'kl', ')', 'from', '600', 'mln', ',', 'they', 'said', '.', 'the', 'decision', 'follows',\n",
      "  'the', 'emergence', 'of', 'structural', 'changes', 'in', 'japanese', 'industry', 'following',\n",
      "  'the', 'rise', 'in', 'the', 'value', 'of', 'the', 'yen', 'and', 'a', 'decline', 'in', 'domestic',\n",
      "  'electric', 'power', 'demand', '.', 'miti', 'is', 'planning', 'to', 'work', 'out', 'a', 'revised',\n",
      "  'energy', 'supply', '/', 'demand', 'outlook', 'through', 'deliberations', 'of', 'committee',\n",
      "  'meetings', 'of', 'the', 'agency', 'of', 'natural', 'resources', 'and', 'energy', ',', 'the',\n",
      "  'officials', 'said', '.', 'they', 'said', 'miti', 'will', 'also', 'review', 'the', 'breakdown',\n",
      "  'of', 'energy', 'supply', 'sources', ',', 'including', 'oil', ',', 'nuclear', ',', 'coal', 'and',\n",
      "  'natural', 'gas', '.', 'nuclear', 'energy', 'provided', 'the', 'bulk', 'of', 'japan', \"'\", 's',\n",
      "  'electric', 'power', 'in', 'the', 'fiscal', 'year', 'ended', 'march', '31', ',', 'supplying',\n",
      "  'an', 'estimated', '27', 'pct', 'on', 'a', 'kilowatt', '/', 'hour', 'basis', ',', 'followed',\n",
      "  'by', 'oil', '(', '23', 'pct', ')', 'and', 'liquefied', 'natural', 'gas', '(', '21', 'pct', '),',\n",
      "  'they', 'noted', '.', '<END>'],\n",
      " ['<START>', 'energy', '/', 'u', '.', 's', '.', 'petrochemical', 'industry', 'cheap', 'oil',\n",
      "  'feedstocks', ',', 'the', 'weakened', 'u', '.', 's', '.', 'dollar', 'and', 'a', 'plant',\n",
      "  'utilization', 'rate', 'approaching', '90', 'pct', 'will', 'propel', 'the', 'streamlined', 'u',\n",
      "  '.', 's', '.', 'petrochemical', 'industry', 'to', 'record', 'profits', 'this', 'year', ',',\n",
      "  'with', 'growth', 'expected', 'through', 'at', 'least', '1990', ',', 'major', 'company',\n",
      "  'executives', 'predicted', '.', 'this', 'bullish', 'outlook', 'for', 'chemical', 'manufacturing',\n",
      "  'and', 'an', 'industrywide', 'move', 'to', 'shed', 'unrelated', 'businesses', 'has', 'prompted',\n",
      "  'gaf', 'corp', '&', 'lt', ';', 'gaf', '>,', 'privately', '-', 'held', 'cain', 'chemical', 'inc',\n",
      "  ',', 'and', 'other', 'firms', 'to', 'aggressively', 'seek', 'acquisitions', 'of', 'petrochemical',\n",
      "  'plants', '.', 'oil', 'companies', 'such', 'as', 'ashland', 'oil', 'inc', '&', 'lt', ';', 'ash',\n",
      "  '>,', 'the', 'kentucky', '-', 'based', 'oil', 'refiner', 'and', 'marketer', ',', 'are', 'also',\n",
      "  'shopping', 'for', 'money', '-', 'making', 'petrochemical', 'businesses', 'to', 'buy', '.', '\"',\n",
      "  'i', 'see', 'us', 'poised', 'at', 'the', 'threshold', 'of', 'a', 'golden', 'period', ',\"', 'said',\n",
      "  'paul', 'oreffice', ',', 'chairman', 'of', 'giant', 'dow', 'chemical', 'co', '&', 'lt', ';',\n",
      "  'dow', '>,', 'adding', ',', '\"', 'there', \"'\", 's', 'no', 'major', 'plant', 'capacity', 'being',\n",
      "  'added', 'around', 'the', 'world', 'now', '.', 'the', 'whole', 'game', 'is', 'bringing', 'out',\n",
      "  'new', 'products', 'and', 'improving', 'the', 'old', 'ones', '.\"', 'analysts', 'say', 'the',\n",
      "  'chemical', 'industry', \"'\", 's', 'biggest', 'customers', ',', 'automobile', 'manufacturers',\n",
      "  'and', 'home', 'builders', 'that', 'use', 'a', 'lot', 'of', 'paints', 'and', 'plastics', ',',\n",
      "  'are', 'expected', 'to', 'buy', 'quantities', 'this', 'year', '.', 'u', '.', 's', '.',\n",
      "  'petrochemical', 'plants', 'are', 'currently', 'operating', 'at', 'about', '90', 'pct',\n",
      "  'capacity', ',', 'reflecting', 'tighter', 'supply', 'that', 'could', 'hike', 'product', 'prices',\n",
      "  'by', '30', 'to', '40', 'pct', 'this', 'year', ',', 'said', 'john', 'dosher', ',', 'managing',\n",
      "  'director', 'of', 'pace', 'consultants', 'inc', 'of', 'houston', '.', 'demand', 'for', 'some',\n",
      "  'products', 'such', 'as', 'styrene', 'could', 'push', 'profit', 'margins', 'up', 'by', 'as',\n",
      "  'much', 'as', '300', 'pct', ',', 'he', 'said', '.', 'oreffice', ',', 'speaking', 'at', 'a',\n",
      "  'meeting', 'of', 'chemical', 'engineers', 'in', 'houston', ',', 'said', 'dow', 'would', 'easily',\n",
      "  'top', 'the', '741', 'mln', 'dlrs', 'it', 'earned', 'last', 'year', 'and', 'predicted', 'it',\n",
      "  'would', 'have', 'the', 'best', 'year', 'in', 'its', 'history', '.', 'in', '1985', ',', 'when',\n",
      "  'oil', 'prices', 'were', 'still', 'above', '25', 'dlrs', 'a', 'barrel', 'and', 'chemical',\n",
      "  'exports', 'were', 'adversely', 'affected', 'by', 'the', 'strong', 'u', '.', 's', '.', 'dollar',\n",
      "  ',', 'dow', 'had', 'profits', 'of', '58', 'mln', 'dlrs', '.', '\"', 'i', 'believe', 'the',\n",
      "  'entire', 'chemical', 'industry', 'is', 'headed', 'for', 'a', 'record', 'year', 'or', 'close',\n",
      "  'to', 'it', ',\"', 'oreffice', 'said', '.', 'gaf', 'chairman', 'samuel', 'heyman', 'estimated',\n",
      "  'that', 'the', 'u', '.', 's', '.', 'chemical', 'industry', 'would', 'report', 'a', '20', 'pct',\n",
      "  'gain', 'in', 'profits', 'during', '1987', '.', 'last', 'year', ',', 'the', 'domestic',\n",
      "  'industry', 'earned', 'a', 'total', 'of', '13', 'billion', 'dlrs', ',', 'a', '54', 'pct', 'leap',\n",
      "  'from', '1985', '.', 'the', 'turn', 'in', 'the', 'fortunes', 'of', 'the', 'once', '-', 'sickly',\n",
      "  'chemical', 'industry', 'has', 'been', 'brought', 'about', 'by', 'a', 'combination', 'of', 'luck',\n",
      "  'and', 'planning', ',', 'said', 'pace', \"'\", 's', 'john', 'dosher', '.', 'dosher', 'said', 'last',\n",
      "  'year', \"'\", 's', 'fall', 'in', 'oil', 'prices', 'made', 'feedstocks', 'dramatically', 'cheaper',\n",
      "  'and', 'at', 'the', 'same', 'time', 'the', 'american', 'dollar', 'was', 'weakening', 'against',\n",
      "  'foreign', 'currencies', '.', 'that', 'helped', 'boost', 'u', '.', 's', '.', 'chemical',\n",
      "  'exports', '.', 'also', 'helping', 'to', 'bring', 'supply', 'and', 'demand', 'into', 'balance',\n",
      "  'has', 'been', 'the', 'gradual', 'market', 'absorption', 'of', 'the', 'extra', 'chemical',\n",
      "  'manufacturing', 'capacity', 'created', 'by', 'middle', 'eastern', 'oil', 'producers', 'in',\n",
      "  'the', 'early', '1980s', '.', 'finally', ',', 'virtually', 'all', 'major', 'u', '.', 's', '.',\n",
      "  'chemical', 'manufacturers', 'have', 'embarked', 'on', 'an', 'extensive', 'corporate',\n",
      "  'restructuring', 'program', 'to', 'mothball', 'inefficient', 'plants', ',', 'trim', 'the',\n",
      "  'payroll', 'and', 'eliminate', 'unrelated', 'businesses', '.', 'the', 'restructuring', 'touched',\n",
      "  'off', 'a', 'flurry', 'of', 'friendly', 'and', 'hostile', 'takeover', 'attempts', '.', 'gaf', ',',\n",
      "  'which', 'made', 'an', 'unsuccessful', 'attempt', 'in', '1985', 'to', 'acquire', 'union',\n",
      "  'carbide', 'corp', '&', 'lt', ';', 'uk', '>,', 'recently', 'offered', 'three', 'billion', 'dlrs',\n",
      "  'for', 'borg', 'warner', 'corp', '&', 'lt', ';', 'bor', '>,', 'a', 'chicago', 'manufacturer',\n",
      "  'of', 'plastics', 'and', 'chemicals', '.', 'another', 'industry', 'powerhouse', ',', 'w', '.',\n",
      "  'r', '.', 'grace', '&', 'lt', ';', 'gra', '>', 'has', 'divested', 'its', 'retailing', ',',\n",
      "  'restaurant', 'and', 'fertilizer', 'businesses', 'to', 'raise', 'cash', 'for', 'chemical',\n",
      "  'acquisitions', '.', 'but', 'some', 'experts', 'worry', 'that', 'the', 'chemical', 'industry',\n",
      "  'may', 'be', 'headed', 'for', 'trouble', 'if', 'companies', 'continue', 'turning', 'their',\n",
      "  'back', 'on', 'the', 'manufacturing', 'of', 'staple', 'petrochemical', 'commodities', ',', 'such',\n",
      "  'as', 'ethylene', ',', 'in', 'favor', 'of', 'more', 'profitable', 'specialty', 'chemicals',\n",
      "  'that', 'are', 'custom', '-', 'designed', 'for', 'a', 'small', 'group', 'of', 'buyers', '.', '\"',\n",
      "  'companies', 'like', 'dupont', '&', 'lt', ';', 'dd', '>', 'and', 'monsanto', 'co', '&', 'lt', ';',\n",
      "  'mtc', '>', 'spent', 'the', 'past', 'two', 'or', 'three', 'years', 'trying', 'to', 'get', 'out',\n",
      "  'of', 'the', 'commodity', 'chemical', 'business', 'in', 'reaction', 'to', 'how', 'badly', 'the',\n",
      "  'market', 'had', 'deteriorated', ',\"', 'dosher', 'said', '.', '\"', 'but', 'i', 'think', 'they',\n",
      "  'will', 'eventually', 'kill', 'the', 'margins', 'on', 'the', 'profitable', 'chemicals', 'in',\n",
      "  'the', 'niche', 'market', '.\"', 'some', 'top', 'chemical', 'executives', 'share', 'the',\n",
      "  'concern', '.', '\"', 'the', 'challenge', 'for', 'our', 'industry', 'is', 'to', 'keep', 'from',\n",
      "  'getting', 'carried', 'away', 'and', 'repeating', 'past', 'mistakes', ',\"', 'gaf', \"'\", 's',\n",
      "  'heyman', 'cautioned', '.', '\"', 'the', 'shift', 'from', 'commodity', 'chemicals', 'may', 'be',\n",
      "  'ill', '-', 'advised', '.', 'specialty', 'businesses', 'do', 'not', 'stay', 'special', 'long',\n",
      "  '.\"', 'houston', '-', 'based', 'cain', 'chemical', ',', 'created', 'this', 'month', 'by', 'the',\n",
      "  'sterling', 'investment', 'banking', 'group', ',', 'believes', 'it', 'can', 'generate', '700',\n",
      "  'mln', 'dlrs', 'in', 'annual', 'sales', 'by', 'bucking', 'the', 'industry', 'trend', '.',\n",
      "  'chairman', 'gordon', 'cain', ',', 'who', 'previously', 'led', 'a', 'leveraged', 'buyout', 'of',\n",
      "  'dupont', \"'\", 's', 'conoco', 'inc', \"'\", 's', 'chemical', 'business', ',', 'has', 'spent', '1',\n",
      "  '.', '1', 'billion', 'dlrs', 'since', 'january', 'to', 'buy', 'seven', 'petrochemical', 'plants',\n",
      "  'along', 'the', 'texas', 'gulf', 'coast', '.', 'the', 'plants', 'produce', 'only', 'basic',\n",
      "  'commodity', 'petrochemicals', 'that', 'are', 'the', 'building', 'blocks', 'of', 'specialty',\n",
      "  'products', '.', '\"', 'this', 'kind', 'of', 'commodity', 'chemical', 'business', 'will', 'never',\n",
      "  'be', 'a', 'glamorous', ',', 'high', '-', 'margin', 'business', ',\"', 'cain', 'said', ',',\n",
      "  'adding', 'that', 'demand', 'is', 'expected', 'to', 'grow', 'by', 'about', 'three', 'pct',\n",
      "  'annually', '.', 'garo', 'armen', ',', 'an', 'analyst', 'with', 'dean', 'witter', 'reynolds', ',',\n",
      "  'said', 'chemical', 'makers', 'have', 'also', 'benefitted', 'by', 'increasing', 'demand', 'for',\n",
      "  'plastics', 'as', 'prices', 'become', 'more', 'competitive', 'with', 'aluminum', ',', 'wood',\n",
      "  'and', 'steel', 'products', '.', 'armen', 'estimated', 'the', 'upturn', 'in', 'the', 'chemical',\n",
      "  'business', 'could', 'last', 'as', 'long', 'as', 'four', 'or', 'five', 'years', ',', 'provided',\n",
      "  'the', 'u', '.', 's', '.', 'economy', 'continues', 'its', 'modest', 'rate', 'of', 'growth', '.',\n",
      "  '<END>'],\n",
      " ['<START>', 'turkey', 'calls', 'for', 'dialogue', 'to', 'solve', 'dispute', 'turkey', 'said',\n",
      "  'today', 'its', 'disputes', 'with', 'greece', ',', 'including', 'rights', 'on', 'the',\n",
      "  'continental', 'shelf', 'in', 'the', 'aegean', 'sea', ',', 'should', 'be', 'solved', 'through',\n",
      "  'negotiations', '.', 'a', 'foreign', 'ministry', 'statement', 'said', 'the', 'latest', 'crisis',\n",
      "  'between', 'the', 'two', 'nato', 'members', 'stemmed', 'from', 'the', 'continental', 'shelf',\n",
      "  'dispute', 'and', 'an', 'agreement', 'on', 'this', 'issue', 'would', 'effect', 'the', 'security',\n",
      "  ',', 'economy', 'and', 'other', 'rights', 'of', 'both', 'countries', '.', '\"', 'as', 'the',\n",
      "  'issue', 'is', 'basicly', 'political', ',', 'a', 'solution', 'can', 'only', 'be', 'found', 'by',\n",
      "  'bilateral', 'negotiations', ',\"', 'the', 'statement', 'said', '.', 'greece', 'has', 'repeatedly',\n",
      "  'said', 'the', 'issue', 'was', 'legal', 'and', 'could', 'be', 'solved', 'at', 'the',\n",
      "  'international', 'court', 'of', 'justice', '.', 'the', 'two', 'countries', 'approached', 'armed',\n",
      "  'confrontation', 'last', 'month', 'after', 'greece', 'announced', 'it', 'planned', 'oil',\n",
      "  'exploration', 'work', 'in', 'the', 'aegean', 'and', 'turkey', 'said', 'it', 'would', 'also',\n",
      "  'search', 'for', 'oil', '.', 'a', 'face', '-', 'off', 'was', 'averted', 'when', 'turkey',\n",
      "  'confined', 'its', 'research', 'to', 'territorrial', 'waters', '.', '\"', 'the', 'latest',\n",
      "  'crises', 'created', 'an', 'historic', 'opportunity', 'to', 'solve', 'the', 'disputes', 'between',\n",
      "  'the', 'two', 'countries', ',\"', 'the', 'foreign', 'ministry', 'statement', 'said', '.', 'turkey',\n",
      "  \"'\", 's', 'ambassador', 'in', 'athens', ',', 'nazmi', 'akiman', ',', 'was', 'due', 'to', 'meet',\n",
      "  'prime', 'minister', 'andreas', 'papandreou', 'today', 'for', 'the', 'greek', 'reply', 'to', 'a',\n",
      "  'message', 'sent', 'last', 'week', 'by', 'turkish', 'prime', 'minister', 'turgut', 'ozal', '.',\n",
      "  'the', 'contents', 'of', 'the', 'message', 'were', 'not', 'disclosed', '.', '<END>']]\n"
     ]
    }
   ],
   "source": [
    "reuters_corpus = read_corpus()\n",
    "pprint.pprint(reuters_corpus[:3], compact=True, width=100)"
   ]
  },
  {
   "cell_type": "markdown",
   "metadata": {},
   "source": [
    "### Question 1.1: Implement `distinct_words` [code] (2 points)\n",
    "\n",
    "Write a method to work out the distinct words (word types) that occur in the corpus. You can do this with `for` loops, but it's more efficient to do it with Python list comprehensions. In particular, [this](https://coderwall.com/p/rcmaea/flatten-a-list-of-lists-in-one-line-in-python) may be useful to flatten a list of lists. If you're not familiar with Python list comprehensions in general, here's [more information](https://python-3-patterns-idioms-test.readthedocs.io/en/latest/Comprehensions.html).\n",
    "\n",
    "Your returned `corpus_words` should be sorted. You can use python's `sorted` function for this.\n",
    "\n",
    "You may find it useful to use [Python sets](https://www.w3schools.com/python/python_sets.asp) to remove duplicate words."
   ]
  },
  {
   "cell_type": "code",
   "execution_count": 1573,
   "metadata": {},
   "outputs": [],
   "source": [
    "def distinct_words(corpus):\n",
    "    \"\"\" Determine a list of distinct words for the corpus.\n",
    "        Params:\n",
    "            corpus (list of list of strings): corpus of documents\n",
    "        Return:\n",
    "            corpus_words (list of strings): sorted list of distinct words across the corpus\n",
    "            num_corpus_words (integer): number of distinct words across the corpus\n",
    "    \"\"\"\n",
    "    corpus_words = []\n",
    "    num_corpus_words = -1\n",
    "    \n",
    "    # ------------------\n",
    "    # Write your implementation here.\n",
    "    # Flatten list of lists\n",
    "    corpus_flattened = [word for sentence in corpus for word in sentence]\n",
    "    # Remove repeating words from the corpus\n",
    "    corpus_words = list(sorted(set(corpus_flattened)))\n",
    "    num_corpus_words = len(corpus_words)\n",
    "    # ------------------\n",
    "\n",
    "    return corpus_words, num_corpus_words"
   ]
  },
  {
   "cell_type": "code",
   "execution_count": 1574,
   "metadata": {},
   "outputs": [
    {
     "name": "stdout",
     "output_type": "stream",
     "text": [
      "--------------------------------------------------------------------------------\n",
      "Passed All Tests!\n",
      "--------------------------------------------------------------------------------\n"
     ]
    }
   ],
   "source": [
    "# ---------------------\n",
    "# Run this sanity check\n",
    "# Note that this not an exhaustive check for correctness.\n",
    "# ---------------------\n",
    "\n",
    "# Define toy corpus\n",
    "test_corpus = [\"{} All that glitters isn't gold {}\".format(START_TOKEN, END_TOKEN).split(\" \"), \"{} All's well that ends well {}\".format(START_TOKEN, END_TOKEN).split(\" \")]\n",
    "test_corpus_words, num_corpus_words = distinct_words(test_corpus)\n",
    "\n",
    "# Correct answers\n",
    "ans_test_corpus_words = sorted([START_TOKEN, \"All\", \"ends\", \"that\", \"gold\", \"All's\", \"glitters\", \"isn't\", \"well\", END_TOKEN])\n",
    "ans_num_corpus_words = len(ans_test_corpus_words)\n",
    "\n",
    "# Test correct number of words\n",
    "assert(num_corpus_words == ans_num_corpus_words), \"Incorrect number of distinct words. Correct: {}. Yours: {}\".format(ans_num_corpus_words, num_corpus_words)\n",
    "\n",
    "# Test correct words\n",
    "assert (test_corpus_words == ans_test_corpus_words), \"Incorrect corpus_words.\\nCorrect: {}\\nYours:   {}\".format(str(ans_test_corpus_words), str(test_corpus_words))\n",
    "\n",
    "# Print Success\n",
    "print (\"-\" * 80)\n",
    "print(\"Passed All Tests!\")\n",
    "print (\"-\" * 80)"
   ]
  },
  {
   "cell_type": "markdown",
   "metadata": {},
   "source": [
    "### Question 1.2: Implement `compute_co_occurrence_matrix` [code] (3 points)\n",
    "\n",
    "Write a method that constructs a co-occurrence matrix for a certain window-size $n$ (with a default of 4), considering words $n$ before and $n$ after the word in the center of the window. Here, we start to use `numpy (np)` to represent vectors, matrices, and tensors.\n"
   ]
  },
  {
   "cell_type": "code",
   "execution_count": 1575,
   "metadata": {},
   "outputs": [],
   "source": [
    "def compute_co_occurrence_matrix(corpus, window_size=4):\n",
    "    \"\"\" Compute co-occurrence matrix for the given corpus and window_size (default of 4).\n",
    "    \n",
    "        Note: Each word in a document should be at the center of a window. Words near edges will have a smaller\n",
    "              number of co-occurring words.\n",
    "              \n",
    "              For example, if we take the document \"<START> All that glitters is not gold <END>\" with window size of 4,\n",
    "              \"All\" will co-occur with \"<START>\", \"that\", \"glitters\", \"is\", and \"not\".\n",
    "    \n",
    "        Params:\n",
    "            corpus (list of list of strings): corpus of documents\n",
    "            window_size (int): size of context window\n",
    "        Return:\n",
    "            M (a symmetric numpy matrix of shape (number of unique words in the corpus , number of unique words in the corpus)): \n",
    "                Co-occurence matrix of word counts. \n",
    "                The ordering of the words in the rows/columns should be the same as the ordering of the words given by the distinct_words function.\n",
    "            word2ind (dict): dictionary that maps word to index (i.e. row/column number) for matrix M.\n",
    "    \"\"\"\n",
    "    words, num_words = distinct_words(corpus)\n",
    "    M = None\n",
    "    word2ind = {}\n",
    "    \n",
    "    # ------------------\n",
    "    # Write your implementation here.\n",
    "    # Initialize M matrix as np.array\n",
    "    M = np.zeros((num_words, num_words), dtype=np.int64) # --> [num_words, num_words]\n",
    "    \n",
    "    # Initialize word2ind\n",
    "    for i, w in enumerate(words):\n",
    "        word2ind[w] = i    \n",
    "    \n",
    "    # Extract context words and update M\n",
    "    for sentence in corpus:\n",
    "        for i, word in enumerate(sentence):\n",
    "            # Extract context words for the current word\n",
    "            left_context_end_ind = (i-window_size) if (i-window_size) >= 0 else 0\n",
    "            right_context_end_ind = (i+1+window_size) if (i+1+window_size) <= len(sentence) else len(sentence)\n",
    "            \n",
    "            if i != 0: # if w is the left most word then there is no left_context\n",
    "                left_context = sentence[left_context_end_ind:i]\n",
    "                \n",
    "                # Update co_occurrence matrix for the left_context\n",
    "                for l_w in left_context:\n",
    "                    ind_i = word2ind[word]\n",
    "                    ind_j = word2ind[l_w]\n",
    "                    M[ind_i, ind_j] = M[ind_i, ind_j] + 1\n",
    "                \n",
    "            if i != (len(sentence) - 1): # if w is the right most word then there is no right_context\n",
    "                right_context = sentence[(i+1):right_context_end_ind]\n",
    "                \n",
    "                # Update co_occurrence matrix for the right_context\n",
    "                for r_w in right_context:\n",
    "                    ind_i = word2ind[word]\n",
    "                    ind_j = word2ind[r_w]\n",
    "                    M[ind_i, ind_j] = M[ind_i, ind_j] + 1\n",
    "\n",
    "    # ------------------\n",
    "\n",
    "    return M, word2ind"
   ]
  },
  {
   "cell_type": "code",
   "execution_count": 1576,
   "metadata": {},
   "outputs": [
    {
     "name": "stdout",
     "output_type": "stream",
     "text": [
      "--------------------------------------------------------------------------------\n",
      "Passed All Tests!\n",
      "--------------------------------------------------------------------------------\n"
     ]
    }
   ],
   "source": [
    "# ---------------------\n",
    "# Run this sanity check\n",
    "# Note that this is not an exhaustive check for correctness.\n",
    "# ---------------------\n",
    "\n",
    "# Define toy corpus and get student's co-occurrence matrix\n",
    "test_corpus = [\"{} All that glitters isn't gold {}\".format(START_TOKEN, END_TOKEN).split(\" \"), \"{} All's well that ends well {}\".format(START_TOKEN, END_TOKEN).split(\" \")]\n",
    "M_test, word2ind_test = compute_co_occurrence_matrix(test_corpus, window_size=1)\n",
    "\n",
    "# Correct M and word2ind\n",
    "M_test_ans = np.array( \n",
    "    [[0., 0., 0., 0., 0., 0., 1., 0., 0., 1.,],\n",
    "     [0., 0., 1., 1., 0., 0., 0., 0., 0., 0.,],\n",
    "     [0., 1., 0., 0., 0., 0., 0., 0., 1., 0.,],\n",
    "     [0., 1., 0., 0., 0., 0., 0., 0., 0., 1.,],\n",
    "     [0., 0., 0., 0., 0., 0., 0., 0., 1., 1.,],\n",
    "     [0., 0., 0., 0., 0., 0., 0., 1., 1., 0.,],\n",
    "     [1., 0., 0., 0., 0., 0., 0., 1., 0., 0.,],\n",
    "     [0., 0., 0., 0., 0., 1., 1., 0., 0., 0.,],\n",
    "     [0., 0., 1., 0., 1., 1., 0., 0., 0., 1.,],\n",
    "     [1., 0., 0., 1., 1., 0., 0., 0., 1., 0.,]]\n",
    ")\n",
    "ans_test_corpus_words = sorted([START_TOKEN, \"All\", \"ends\", \"that\", \"gold\", \"All's\", \"glitters\", \"isn't\", \"well\", END_TOKEN])\n",
    "word2ind_ans = dict(zip(ans_test_corpus_words, range(len(ans_test_corpus_words))))\n",
    "\n",
    "# Test correct word2ind\n",
    "assert (word2ind_ans == word2ind_test), \"Your word2ind is incorrect:\\nCorrect: {}\\nYours: {}\".format(word2ind_ans, word2ind_test)\n",
    "\n",
    "# Test correct M shape\n",
    "assert (M_test.shape == M_test_ans.shape), \"M matrix has incorrect shape.\\nCorrect: {}\\nYours: {}\".format(M_test.shape, M_test_ans.shape)\n",
    "\n",
    "# Test correct M values\n",
    "for w1 in word2ind_ans.keys():\n",
    "    idx1 = word2ind_ans[w1]\n",
    "    for w2 in word2ind_ans.keys():\n",
    "        idx2 = word2ind_ans[w2]\n",
    "        student = M_test[idx1, idx2]\n",
    "        correct = M_test_ans[idx1, idx2]\n",
    "        if student != correct:\n",
    "            print(\"Correct M:\")\n",
    "            print(M_test_ans)\n",
    "            print(\"Your M: \")\n",
    "            print(M_test)\n",
    "            raise AssertionError(\"Incorrect count at index ({}, {})=({}, {}) in matrix M. Yours has {} but should have {}.\".format(idx1, idx2, w1, w2, student, correct))\n",
    "\n",
    "# Print Success\n",
    "print (\"-\" * 80)\n",
    "print(\"Passed All Tests!\")\n",
    "print (\"-\" * 80)"
   ]
  },
  {
   "cell_type": "markdown",
   "metadata": {},
   "source": [
    "### Question 1.3: Implement `reduce_to_k_dim` [code] (1 point)\n",
    "\n",
    "Construct a method that performs dimensionality reduction on the matrix to produce k-dimensional embeddings. Use SVD to take the top k components and produce a new matrix of k-dimensional embeddings. \n",
    "\n",
    "**Note:** All of numpy, scipy, and scikit-learn (`sklearn`) provide *some* implementation of SVD, but only scipy and sklearn provide an implementation of Truncated SVD, and only sklearn provides an efficient randomized algorithm for calculating large-scale Truncated SVD. So please use [sklearn.decomposition.TruncatedSVD](https://scikit-learn.org/stable/modules/generated/sklearn.decomposition.TruncatedSVD.html)."
   ]
  },
  {
   "cell_type": "code",
   "execution_count": 1577,
   "metadata": {},
   "outputs": [],
   "source": [
    "def reduce_to_k_dim(M, k=2):\n",
    "    \"\"\" Reduce a co-occurence count matrix of dimensionality (num_corpus_words, num_corpus_words)\n",
    "        to a matrix of dimensionality (num_corpus_words, k) using the following SVD function from Scikit-Learn:\n",
    "            - http://scikit-learn.org/stable/modules/generated/sklearn.decomposition.TruncatedSVD.html\n",
    "    \n",
    "        Params:\n",
    "            M (numpy matrix of shape (number of unique words in the corpus , number of unique words in the corpus)): co-occurence matrix of word counts\n",
    "            k (int): embedding size of each word after dimension reduction\n",
    "        Return:\n",
    "            M_reduced (numpy matrix of shape (number of corpus words, k)): matrix of k-dimensioal word embeddings.\n",
    "                    In terms of the SVD from math class, this actually returns U * S\n",
    "    \"\"\"    \n",
    "    n_iters = 10     # Use this parameter in your call to `TruncatedSVD`\n",
    "    M_reduced = None\n",
    "    print(\"Running Truncated SVD over %i words...\" % (M.shape[0]))\n",
    "    \n",
    "    # ------------------\n",
    "    # Write your implementation here.\n",
    "    svd = TruncatedSVD(n_components=k, n_iter=n_iters, random_state=42)\n",
    "    M_reduced = svd.fit_transform(M)\n",
    "    # ------------------\n",
    "\n",
    "    print(\"Done.\")\n",
    "    return M_reduced"
   ]
  },
  {
   "cell_type": "code",
   "execution_count": 1578,
   "metadata": {},
   "outputs": [
    {
     "name": "stdout",
     "output_type": "stream",
     "text": [
      "Running Truncated SVD over 10 words...\n",
      "Done.\n",
      "--------------------------------------------------------------------------------\n",
      "Passed All Tests!\n",
      "--------------------------------------------------------------------------------\n"
     ]
    }
   ],
   "source": [
    "# ---------------------\n",
    "# Run this sanity check\n",
    "# Note that this is not an exhaustive check for correctness \n",
    "# In fact we only check that your M_reduced has the right dimensions.\n",
    "# ---------------------\n",
    "\n",
    "# Define toy corpus and run student code\n",
    "test_corpus = [\"{} All that glitters isn't gold {}\".format(START_TOKEN, END_TOKEN).split(\" \"), \"{} All's well that ends well {}\".format(START_TOKEN, END_TOKEN).split(\" \")]\n",
    "M_test, word2ind_test = compute_co_occurrence_matrix(test_corpus, window_size=1)\n",
    "M_test_reduced = reduce_to_k_dim(M_test, k=2)\n",
    "\n",
    "# Test proper dimensions\n",
    "assert (M_test_reduced.shape[0] == 10), \"M_reduced has {} rows; should have {}\".format(M_test_reduced.shape[0], 10)\n",
    "assert (M_test_reduced.shape[1] == 2), \"M_reduced has {} columns; should have {}\".format(M_test_reduced.shape[1], 2)\n",
    "\n",
    "# Print Success\n",
    "print (\"-\" * 80)\n",
    "print(\"Passed All Tests!\")\n",
    "print (\"-\" * 80)"
   ]
  },
  {
   "cell_type": "markdown",
   "metadata": {},
   "source": [
    "### Question 1.4: Implement `plot_embeddings` [code] (1 point)\n",
    "\n",
    "Here you will write a function to plot a set of 2D vectors in 2D space. For graphs, we will use Matplotlib (`plt`).\n",
    "\n",
    "For this example, you may find it useful to adapt [this code](http://web.archive.org/web/20190924160434/https://www.pythonmembers.club/2018/05/08/matplotlib-scatter-plot-annotate-set-text-at-label-each-point/). In the future, a good way to make a plot is to look at [the Matplotlib gallery](https://matplotlib.org/gallery/index.html), find a plot that looks somewhat like what you want, and adapt the code they give."
   ]
  },
  {
   "cell_type": "code",
   "execution_count": 1579,
   "metadata": {},
   "outputs": [],
   "source": [
    "def plot_embeddings(M_reduced, word2ind, words):\n",
    "    \"\"\" Plot in a scatterplot the embeddings of the words specified in the list \"words\".\n",
    "        NOTE: do not plot all the words listed in M_reduced / word2ind.\n",
    "        Include a label next to each point.\n",
    "        \n",
    "        Params:\n",
    "            M_reduced (numpy matrix of shape (number of unique words in the corpus , 2)): matrix of 2-dimensioal word embeddings\n",
    "            word2ind (dict): dictionary that maps word to indices for matrix M\n",
    "            words (list of strings): words whose embeddings we want to visualize\n",
    "    \"\"\"\n",
    "\n",
    "    # ------------------\n",
    "    # Write your implementation here.\n",
    "    for w in words:\n",
    "        w_ind = word2ind[w]\n",
    "        \n",
    "        w_vector = M_reduced[w_ind] # --> [k,]\n",
    "        x = w_vector[0]\n",
    "        y = w_vector[1]\n",
    "        \n",
    "        eps = 0.0\n",
    "        \n",
    "        plt.scatter(x, y, marker='x', color='red')\n",
    "        plt.text(x+eps, y+eps, w, fontsize=9)\n",
    "    plt.show()\n",
    "    \n",
    "    # ------------------"
   ]
  },
  {
   "cell_type": "code",
   "execution_count": 1580,
   "metadata": {},
   "outputs": [
    {
     "name": "stdout",
     "output_type": "stream",
     "text": [
      "--------------------------------------------------------------------------------\n",
      "Outputted Plot:\n"
     ]
    },
    {
     "data": {
      "image/png": "[encoded data removed]",
      "text/plain": [
       "<Figure size 1000x500 with 1 Axes>"
      ]
     },
     "metadata": {},
     "output_type": "display_data"
    },
    {
     "name": "stdout",
     "output_type": "stream",
     "text": [
      "--------------------------------------------------------------------------------\n"
     ]
    }
   ],
   "source": [
    "# ---------------------\n",
    "# Run this sanity check\n",
    "# Note that this is not an exhaustive check for correctness.\n",
    "# The plot produced should look like the \"test solution plot\" depicted below. \n",
    "# ---------------------\n",
    "\n",
    "print (\"-\" * 80)\n",
    "print (\"Outputted Plot:\")\n",
    "\n",
    "M_reduced_plot_test = np.array([[1, 1], [-1, -1], [1, -1], [-1, 1], [0, 0]])\n",
    "word2ind_plot_test = {'test1': 0, 'test2': 1, 'test3': 2, 'test4': 3, 'test5': 4}\n",
    "words = ['test1', 'test2', 'test3', 'test4', 'test5']\n",
    "plot_embeddings(M_reduced_plot_test, word2ind_plot_test, words)\n",
    "\n",
    "print (\"-\" * 80)"
   ]
  },
  {
   "cell_type": "markdown",
   "metadata": {},
   "source": [
    "<font color=red>**Test Plot Solution**</font>\n",
    "<br>\n",
    "<img src=\"./imgs/test_plot.png\" width=40% style=\"float: left;\"> </img>\n"
   ]
  },
  {
   "cell_type": "markdown",
   "metadata": {},
   "source": [
    "### Question 1.5: Co-Occurrence Plot Analysis [written] (3 points)\n",
    "\n",
    "Now we will put together all the parts you have written! We will compute the co-occurrence matrix with fixed window of 4 (the default window size), over the Reuters \"crude\" (oil) corpus. Then we will use TruncatedSVD to compute 2-dimensional embeddings of each word. TruncatedSVD returns U\\*S, so we need to normalize the returned vectors, so that all the vectors will appear around the unit circle (therefore closeness is directional closeness). **Note**: The line of code below that does the normalizing uses the NumPy concept of *broadcasting*. If you don't know about broadcasting, check out\n",
    "[Computation on Arrays: Broadcasting by Jake VanderPlas](https://jakevdp.github.io/PythonDataScienceHandbook/02.05-computation-on-arrays-broadcasting.html).\n",
    "\n",
    "Run the below cell to produce the plot. It'll probably take a few seconds to run. What clusters together in 2-dimensional embedding space? What doesn't cluster together that you might think should have?  **Note:** \"bpd\" stands for \"barrels per day\" and is a commonly used abbreviation in crude oil topic articles."
   ]
  },
  {
   "cell_type": "code",
   "execution_count": 1581,
   "metadata": {},
   "outputs": [
    {
     "name": "stdout",
     "output_type": "stream",
     "text": [
      "Running Truncated SVD over 8185 words...\n",
      "Done.\n"
     ]
    },
    {
     "data": {
      "image/png": "[encoded data removed]",
      "text/plain": [
       "<Figure size 1000x500 with 1 Axes>"
      ]
     },
     "metadata": {},
     "output_type": "display_data"
    }
   ],
   "source": [
    "# -----------------------------\n",
    "# Run This Cell to Produce Your Plot\n",
    "# ------------------------------\n",
    "reuters_corpus = read_corpus()\n",
    "M_co_occurrence, word2ind_co_occurrence = compute_co_occurrence_matrix(reuters_corpus)\n",
    "M_reduced_co_occurrence = reduce_to_k_dim(M_co_occurrence, k=2)\n",
    "\n",
    "# Rescale (normalize) the rows to make them each of unit-length\n",
    "M_lengths = np.linalg.norm(M_reduced_co_occurrence, axis=1)\n",
    "M_normalized = M_reduced_co_occurrence / M_lengths[:, np.newaxis] # broadcasting\n",
    "\n",
    "words = ['barrels', 'bpd', 'ecuador', 'energy', 'industry', 'kuwait', 'oil', 'output', 'petroleum', 'iraq']\n",
    "\n",
    "plot_embeddings(M_normalized, word2ind_co_occurrence, words)"
   ]
  },
  {
   "cell_type": "markdown",
   "metadata": {},
   "source": [
    "#### <font color=\"red\">Write your answer here.</font>\n",
    "#### <font color=\"green\">Semantically similar words seem to be clustering together in the 2-dimensional embedding space. For example, countries are clustered together such as 'iraq', 'ecuador', 'kuwait'. Also, the words 'oil' and 'energy' are located near to each other which makes sense since oil is a type of energy resource. On the other hand, I think 'energy' and 'industry' should have been closer to each other since 'energy' is a type 'industry' (i.e. energy industry). Also, I think 'oil' and 'barrels' should have been clustered together too since barrel contains oil and therefore they are related which could have been reflected in their word embeddings by being clustered together.</font>\n"
   ]
  },
  {
   "cell_type": "markdown",
   "metadata": {},
   "source": [
    "## Part 2: Prediction-Based Word Vectors (15 points)\n",
    "\n",
    "As discussed in class, more recently prediction-based word vectors have demonstrated better performance, such as word2vec and GloVe (which also utilizes the benefit of counts). Here, we shall explore the embeddings produced by GloVe. Please revisit the class notes and lecture slides for more details on the word2vec and GloVe algorithms. If you're feeling adventurous, challenge yourself and try reading [GloVe's original paper](https://nlp.stanford.edu/pubs/glove.pdf).\n",
    "\n",
    "Then run the following cells to load the GloVe vectors into memory. **Note**: If this is your first time to run these cells, i.e. download the embedding model, it will take a couple minutes to run. If you've run these cells before, rerunning them will load the model without redownloading it, which will take about 1 to 2 minutes."
   ]
  },
  {
   "cell_type": "code",
   "execution_count": 1582,
   "metadata": {},
   "outputs": [],
   "source": [
    "def load_embedding_model():\n",
    "    \"\"\" Load GloVe Vectors\n",
    "        Return:\n",
    "            wv_from_bin: All 400000 embeddings, each lengh 200\n",
    "    \"\"\"\n",
    "    import gensim.downloader as api\n",
    "    wv_from_bin = api.load(\"glove-wiki-gigaword-200\")\n",
    "    print(\"Loaded vocab size %i\" % len(wv_from_bin.vocab.keys()))\n",
    "    return wv_from_bin"
   ]
  },
  {
   "cell_type": "code",
   "execution_count": 1583,
   "metadata": {},
   "outputs": [
    {
     "name": "stdout",
     "output_type": "stream",
     "text": [
      "Loaded vocab size 400000\n"
     ]
    }
   ],
   "source": [
    "# -----------------------------------\n",
    "# Run Cell to Load Word Vectors\n",
    "# Note: This will take a couple minutes\n",
    "# -----------------------------------\n",
    "wv_from_bin = load_embedding_model()"
   ]
  },
  {
   "cell_type": "markdown",
   "metadata": {},
   "source": [
    "#### Note: If you are receiving a \"reset by peer\" error, rerun the cell to restart the download. "
   ]
  },
  {
   "cell_type": "markdown",
   "metadata": {},
   "source": [
    "### Reducing dimensionality of Word Embeddings\n",
    "Let's directly compare the GloVe embeddings to those of the co-occurrence matrix. In order to avoid running out of memory, we will work with a sample of 10000 GloVe vectors instead.\n",
    "Run the following cells to:\n",
    "\n",
    "1. Put 10000 Glove vectors into a matrix M\n",
    "2. Run `reduce_to_k_dim` (your Truncated SVD function) to reduce the vectors from 200-dimensional to 2-dimensional."
   ]
  },
  {
   "cell_type": "code",
   "execution_count": 1584,
   "metadata": {},
   "outputs": [],
   "source": [
    "def get_matrix_of_vectors(wv_from_bin, required_words=['barrels', 'bpd', 'ecuador', 'energy', 'industry', 'kuwait', 'oil', 'output', 'petroleum', 'iraq']):\n",
    "    \"\"\" Put the GloVe vectors into a matrix M.\n",
    "        Param:\n",
    "            wv_from_bin: KeyedVectors object; the 400000 GloVe vectors loaded from file\n",
    "        Return:\n",
    "            M: numpy matrix shape (num words, 200) containing the vectors\n",
    "            word2ind: dictionary mapping each word to its row number in M\n",
    "    \"\"\"\n",
    "    import random\n",
    "    words = list(wv_from_bin.vocab.keys())\n",
    "    print(\"Shuffling words ...\")\n",
    "    random.seed(224)\n",
    "    random.shuffle(words)\n",
    "    words = words[:10000]\n",
    "    print(\"Putting %i words into word2ind and matrix M...\" % len(words))\n",
    "    word2ind = {}\n",
    "    M = []\n",
    "    curInd = 0\n",
    "    for w in words:\n",
    "        try:\n",
    "            M.append(wv_from_bin.word_vec(w))\n",
    "            word2ind[w] = curInd\n",
    "            curInd += 1\n",
    "        except KeyError:\n",
    "            continue\n",
    "    for w in required_words:\n",
    "        if w in words:\n",
    "            continue\n",
    "        try:\n",
    "            M.append(wv_from_bin.word_vec(w))\n",
    "            word2ind[w] = curInd\n",
    "            curInd += 1\n",
    "        except KeyError:\n",
    "            continue\n",
    "    M = np.stack(M)\n",
    "    print(\"Done.\")\n",
    "    return M, word2ind"
   ]
  },
  {
   "cell_type": "code",
   "execution_count": 1585,
   "metadata": {},
   "outputs": [
    {
     "name": "stdout",
     "output_type": "stream",
     "text": [
      "Shuffling words ...\n",
      "Putting 10000 words into word2ind and matrix M...\n",
      "Done.\n",
      "Running Truncated SVD over 10010 words...\n",
      "Done.\n"
     ]
    }
   ],
   "source": [
    "# -----------------------------------------------------------------\n",
    "# Run Cell to Reduce 200-Dimensional Word Embeddings to k Dimensions\n",
    "# Note: This should be quick to run\n",
    "# -----------------------------------------------------------------\n",
    "M, word2ind = get_matrix_of_vectors(wv_from_bin)\n",
    "M_reduced = reduce_to_k_dim(M, k=2)\n",
    "\n",
    "# Rescale (normalize) the rows to make them each of unit-length\n",
    "M_lengths = np.linalg.norm(M_reduced, axis=1)\n",
    "M_reduced_normalized = M_reduced / M_lengths[:, np.newaxis] # broadcasting"
   ]
  },
  {
   "cell_type": "markdown",
   "metadata": {},
   "source": [
    "**Note: If you are receiving out of memory issues on your local machine, try closing other applications to free more memory on your device. You may want to try restarting your machine so that you can free up extra memory. Then immediately run the jupyter notebook and see if you can load the word vectors properly. If you still have problems with loading the embeddings onto your local machine after this, please go to office hours or contact course staff.**"
   ]
  },
  {
   "cell_type": "markdown",
   "metadata": {},
   "source": [
    "### Question 2.1: GloVe Plot Analysis [written] (3 points)\n",
    "\n",
    "Run the cell below to plot the 2D GloVe embeddings for `['barrels', 'bpd', 'ecuador', 'energy', 'industry', 'kuwait', 'oil', 'output', 'petroleum', 'iraq']`.\n",
    "\n",
    "What clusters together in 2-dimensional embedding space? What doesn't cluster together that you think should have? How is the plot different from the one generated earlier from the co-occurrence matrix? What is a possible cause for the difference?"
   ]
  },
  {
   "cell_type": "code",
   "execution_count": 1586,
   "metadata": {
    "scrolled": true
   },
   "outputs": [
    {
     "data": {
      "image/png": "[encoded data removed]",
      "text/plain": [
       "<Figure size 1000x500 with 1 Axes>"
      ]
     },
     "metadata": {},
     "output_type": "display_data"
    }
   ],
   "source": [
    "words = ['barrels', 'bpd', 'ecuador', 'energy', 'industry', 'kuwait', 'oil', 'output', 'petroleum', 'iraq']\n",
    "plot_embeddings(M_reduced_normalized, word2ind, words)"
   ]
  },
  {
   "cell_type": "markdown",
   "metadata": {},
   "source": [
    "#### <font color=\"red\">Write your answer here.</font>\n",
    "#### <font color=\"green\">Semantically similar words seem to be clustering together in the 2-dimensional embedding space. For example, countries are clustered together such as 'iraq', 'ecuador', 'kuwait'. Also, the words 'oil' and 'petroleum' are located near to each other which makes sense since oil is a type of energy resource. 'energy' and 'industry' are clustered which makes sense since energy is a type of industry (i.e. energy industry).On the other hand, I think 'kuwait' and ['ecuador', 'iraq'] should have been closer to each other since 'kuwait' is a country too. Also, like ['ecuador', 'iraq'] 'kuwait' also has oil reserves in their land which makes them further semantically related which should have resulted in similar word embeddings. On the other hand, I think 'oil' and 'barrels' should have been clustered together too since barrel is a container for oil and therefore they are related which could have been reflected in their word embeddings by being clustered together. The plot is different from the one generated earlier from the co-occurrence matrix by encapsulating semantic meanings of certain words better regarding the word embedding vectors. For instance, the embedding vectors of the words 'energy' and 'industry' are more similar in this plot in comparison to the earlier one. This is an improvement since these words are semantically related (i.e. energy industry). Moreover, 'petroleum' is embedded closer to the word 'oil' which makes sense since petroleum is a product of oil. Whereas in the earlier plot these word embeddings were further apart which implies that this semantic relationship was not captured as successfully in the earlier plot as it is captured in the latest (this) plot. One possible cause of this difference could be that the documents that were used to learn these embeddings were different for the two algorithms. For example, the number of sentences and the context of words could be different between the documents used to learn these embedding which would impact the learned word embeddings. Also, the algorithms used to learn these embedding are different which could have a huge impact on the learned embeddings. For example, co-occurrence matrix could struggle to embed the second meanings of words whereas GloVe embeddings might achieve to embed more than one meanings of a word.</font>"
   ]
  },
  {
   "cell_type": "markdown",
   "metadata": {},
   "source": [
    "### Cosine Similarity\n",
    "Now that we have word vectors, we need a way to quantify the similarity between individual words, according to these vectors. One such metric is cosine-similarity. We will be using this to find words that are \"close\" and \"far\" from one another.\n",
    "\n",
    "We can think of n-dimensional vectors as points in n-dimensional space. If we take this perspective [L1](http://mathworld.wolfram.com/L1-Norm.html) and [L2](http://mathworld.wolfram.com/L2-Norm.html) Distances help quantify the amount of space \"we must travel\" to get between these two points. Another approach is to examine the angle between two vectors. From trigonometry we know that:\n",
    "\n",
    "<img src=\"./imgs/inner_product.png\" width=20% style=\"float: center;\"></img>\n",
    "\n",
    "Instead of computing the actual angle, we can leave the similarity in terms of $similarity = cos(\\Theta)$. Formally the [Cosine Similarity](https://en.wikipedia.org/wiki/Cosine_similarity) $s$ between two vectors $p$ and $q$ is defined as:\n",
    "\n",
    "$$s = \\frac{p \\cdot q}{||p|| ||q||}, \\textrm{ where } s \\in [-1, 1] $$ "
   ]
  },
  {
   "cell_type": "markdown",
   "metadata": {},
   "source": [
    "### Question 2.2: Words with Multiple Meanings (1.5 points) [code + written] \n",
    "Polysemes and homonyms are words that have more than one meaning (see this [wiki page](https://en.wikipedia.org/wiki/Polysemy) to learn more about the difference between polysemes and homonyms ). Find a word with *at least two different meanings* such that the top-10 most similar words (according to cosine similarity) contain related words from *both* meanings. For example, \"leaves\" has both \"go_away\" and \"a_structure_of_a_plant\" meaning in the top 10, and \"scoop\" has both \"handed_waffle_cone\" and \"lowdown\". You will probably need to try several polysemous or homonymic words before you find one. \n",
    "\n",
    "Please state the word you discover and the multiple meanings that occur in the top 10. Why do you think many of the polysemous or homonymic words you tried didn't work (i.e. the top-10 most similar words only contain **one** of the meanings of the words)?\n",
    "\n",
    "**Note**: You should use the `wv_from_bin.most_similar(word)` function to get the top 10 similar words. This function ranks all other words in the vocabulary with respect to their cosine similarity to the given word. For further assistance, please check the __[GenSim documentation](https://radimrehurek.com/gensim/models/keyedvectors.html#gensim.models.keyedvectors.FastTextKeyedVectors.most_similar)__."
   ]
  },
  {
   "cell_type": "code",
   "execution_count": 1587,
   "metadata": {},
   "outputs": [
    {
     "data": {
      "text/plain": [
       "[('mice', 0.6580957770347595),\n",
       " ('keyboard', 0.5548278093338013),\n",
       " ('rat', 0.5433950424194336),\n",
       " ('rabbit', 0.5192376375198364),\n",
       " ('cat', 0.5077415108680725),\n",
       " ('cursor', 0.5058691501617432),\n",
       " ('trackball', 0.5048903226852417),\n",
       " ('joystick', 0.49841052293777466),\n",
       " ('mickey', 0.47242844104766846),\n",
       " ('clicks', 0.4722805321216583)]"
      ]
     },
     "execution_count": 1587,
     "metadata": {},
     "output_type": "execute_result"
    }
   ],
   "source": [
    "# ------------------\n",
    "# Write your implementation here.\n",
    "wv_from_bin.most_similar('mouse')\n",
    "    \n",
    "# ------------------"
   ]
  },
  {
   "cell_type": "markdown",
   "metadata": {},
   "source": [
    "#### <font color=\"red\">Write your answer here.</font>\n",
    "#### <font color=\"green\">The word I discovered is: 'mouse'. It's first meaning is: \"a small furry animal with a pointed nose and a long tail that lives in people’s houses or in fields\". Its another meaning that occured is \"a small object that you move with your hand to give instructions to a computer\". I think that many words I tried did not work because the documents used to learn these words did not have sufficient or any examples of the word being used with its other meanings. Since we are learning these embeddings from data, if these meanings are not represented in the trainign data then we cannot expect out word embeddings to encompass those left out meanings of the words. Furthermore, the algorithm used to learn these word embeddings could be not capable of embedding more than one meaning of a word. \n",
    "</font>"
   ]
  },
  {
   "cell_type": "markdown",
   "metadata": {},
   "source": [
    "### Question 2.3: Synonyms & Antonyms (2 points) [code + written] \n",
    "\n",
    "When considering Cosine Similarity, it's often more convenient to think of Cosine Distance, which is simply 1 - Cosine Similarity.\n",
    "\n",
    "Find three words $(w_1,w_2,w_3)$ where $w_1$ and $w_2$ are synonyms and $w_1$ and $w_3$ are antonyms, but Cosine Distance $(w_1,w_3) <$ Cosine Distance $(w_1,w_2)$. \n",
    "\n",
    "As an example, $w_1$=\"happy\" is closer to $w_3$=\"sad\" than to $w_2$=\"cheerful\". Please find a different example that satisfies the above. Once you have found your example, please give a possible explanation for why this counter-intuitive result may have happened.\n",
    "\n",
    "You should use the the `wv_from_bin.distance(w1, w2)` function here in order to compute the cosine distance between two words. Please see the __[GenSim documentation](https://radimrehurek.com/gensim/models/keyedvectors.html#gensim.models.keyedvectors.FastTextKeyedVectors.distance)__ for further assistance."
   ]
  },
  {
   "cell_type": "code",
   "execution_count": 1588,
   "metadata": {},
   "outputs": [
    {
     "name": "stdout",
     "output_type": "stream",
     "text": [
      "Congratulations. Word found is: grim\n"
     ]
    }
   ],
   "source": [
    "# ------------------\n",
    "# Write your implementation here.\n",
    "def check_constraint(w1, w2, w3):\n",
    "    syn_dist = wv_from_bin.distance(w1, w2)\n",
    "    ant_dist = wv_from_bin.distance(w1, w3)\n",
    "\n",
    "    assert ant_dist < syn_dist, \"Constraint not satisfied. Try different words.\"\n",
    "    if ant_dist < syn_dist:\n",
    "        print(f'Congratulations. Word found is: {w1}')\n",
    "\n",
    "\n",
    "w1 = 'grim'\n",
    "w2 = 'horrid'\n",
    "w3 = 'bright'\n",
    "check_constraint(w1, w2, w3)\n",
    "\n",
    "# ------------------"
   ]
  },
  {
   "cell_type": "markdown",
   "metadata": {},
   "source": [
    "#### <font color=\"red\">Write your answer here.</font>\n",
    "#### <font color=\"green\">I have found the pair $w_1$=\"grim\", $w_2$=\"horrid\", and $w_3$=\"bright\". I think this might have happened because the document that the word embeddings were learned on did not represent my choice of word pairs well to allow the learned embeddings to reflect their semantic relationship. For example, in my word pairs, I think this error might have happened due to $w_3$=\"bright\" not being used in its meaning which is the antonmy of $w_1$=\"grim\" in the training data. Probably the training data had sentences which used $w_3$=\"bright\" in the context where it meant \"shining strongly, or with plenty of light\", but not \"happy and full of energy\"</font>"
   ]
  },
  {
   "cell_type": "markdown",
   "metadata": {},
   "source": [
    "### Question 2.4: Analogies with Word Vectors [written] (1.5 points)\n",
    "Word vectors have been shown to *sometimes* exhibit the ability to solve analogies. \n",
    "\n",
    "As an example, for the analogy \"man : king :: woman : x\" (read: man is to king as woman is to x), what is x?\n",
    "\n",
    "In the cell below, we show you how to use word vectors to find x using the `most_similar` function from the __[GenSim documentation](https://radimrehurek.com/gensim/models/keyedvectors.html#gensim.models.keyedvectors.KeyedVectors.most_similar)__. The function finds words that are most similar to the words in the `positive` list and most dissimilar from the words in the `negative` list (while omitting the input words, which are often the most similar; see [this paper](https://www.aclweb.org/anthology/N18-2039.pdf)). The answer to the analogy will have the highest cosine similarity (largest returned numerical value)."
   ]
  },
  {
   "cell_type": "code",
   "execution_count": 1589,
   "metadata": {},
   "outputs": [
    {
     "name": "stdout",
     "output_type": "stream",
     "text": [
      "[('queen', 0.6978679299354553),\n",
      " ('princess', 0.6081745028495789),\n",
      " ('monarch', 0.5889755487442017),\n",
      " ('throne', 0.5775109529495239),\n",
      " ('prince', 0.5750998258590698),\n",
      " ('elizabeth', 0.546359658241272),\n",
      " ('daughter', 0.5399125814437866),\n",
      " ('kingdom', 0.5318053364753723),\n",
      " ('mother', 0.5168544054031372),\n",
      " ('crown', 0.5164471864700317)]\n"
     ]
    }
   ],
   "source": [
    "# Run this cell to answer the analogy -- man : king :: woman : x\n",
    "pprint.pprint(wv_from_bin.most_similar(positive=['woman', 'king'], negative=['man']))"
   ]
  },
  {
   "cell_type": "markdown",
   "metadata": {},
   "source": [
    "Let $m$, $k$, $w$, and $x$ denote the word vectors for `man`, `king`, `woman`, and the answer, respectively. Using **only** vectors $m$, $k$, $w$, and the vector arithmetic operators $+$ and $-$ in your answer, what is the expression in which we are maximizing cosine similarity with $x$?\n",
    "\n",
    "Hint: Recall that word vectors are simply multi-dimensional vectors that represent a word. It might help to draw out a 2D example using arbitrary locations of each vector. Where would `man` and `woman` lie in the coordinate plane relative to `king` and the answer?"
   ]
  },
  {
   "cell_type": "markdown",
   "metadata": {},
   "source": [
    "#### <font color=\"red\">Write your answer here.</font>\n",
    "#### <font color=\"green\">The expression in which we are maximizing cosine similarity with x is $(k - m) + w$.</font>"
   ]
  },
  {
   "cell_type": "markdown",
   "metadata": {},
   "source": [
    "### Question 2.5: Finding Analogies [code + written]  (1.5 points)\n",
    "Find an example of analogy that holds according to these vectors (i.e. the intended word is ranked top). In your solution please state the full analogy in the form x:y :: a:b. If you believe the analogy is complicated, explain why the analogy holds in one or two sentences.\n",
    "\n",
    "**Note**: You may have to try many analogies to find one that works!"
   ]
  },
  {
   "cell_type": "code",
   "execution_count": 1590,
   "metadata": {},
   "outputs": [
    {
     "name": "stdout",
     "output_type": "stream",
     "text": [
      "[('waitress', 0.7147579789161682),\n",
      " ('bartender', 0.6425575017929077),\n",
      " ('receptionist', 0.5911696553230286),\n",
      " ('hairdresser', 0.5214430689811707),\n",
      " ('housekeeper', 0.5071993470191956),\n",
      " ('waiters', 0.5048622488975525),\n",
      " ('hostess', 0.5042896270751953),\n",
      " ('busboy', 0.5027108192443848),\n",
      " ('barmaid', 0.5009714365005493),\n",
      " ('waitresses', 0.4968399107456207)]\n"
     ]
    }
   ],
   "source": [
    "# ------------------\n",
    "# Write your implementation here.\n",
    "\n",
    "pprint.pprint(wv_from_bin.most_similar(positive=['woman', 'waiter'], negative=['man']))\n",
    "# ------------------"
   ]
  },
  {
   "cell_type": "markdown",
   "metadata": {},
   "source": [
    "#### <font color=\"red\">Write your answer here.</font>\n",
    "#### <font color=\"green\">The analogy is man:waiter :: woman:waitress. Explanation: waiter and waitresses do the same jobs in which the only difference is that waiter implies the one doing the job is a man whereas, waitress implies the one doing the job is a woman.</font>"
   ]
  },
  {
   "cell_type": "markdown",
   "metadata": {},
   "source": [
    "### Question 2.6: Incorrect Analogy [code + written] (1.5 points)\n",
    "Find an example of analogy that does *not* hold according to these vectors. In your solution, state the intended analogy in the form x:y :: a:b, and state the (incorrect) value of b according to the word vectors."
   ]
  },
  {
   "cell_type": "code",
   "execution_count": 1591,
   "metadata": {},
   "outputs": [
    {
     "name": "stdout",
     "output_type": "stream",
     "text": [
      "[('horses', 0.4861261248588562),\n",
      " ('shoes', 0.4844348728656769),\n",
      " ('footwear', 0.4807221293449402),\n",
      " ('harness', 0.4557029604911804),\n",
      " ('thoroughbred', 0.4398704767227173),\n",
      " ('stables', 0.423513799905777),\n",
      " ('saddle', 0.4221404194831848),\n",
      " ('bicycle', 0.4104623794555664),\n",
      " ('sneaker', 0.4095207452774048),\n",
      " ('laces', 0.40818917751312256)]\n"
     ]
    }
   ],
   "source": [
    "# ------------------\n",
    "# Write your implementation here.\n",
    "pprint.pprint(wv_from_bin.most_similar(positive=['horse', 'shoe'], negative=['man']))\n",
    "\n",
    "# ------------------"
   ]
  },
  {
   "cell_type": "markdown",
   "metadata": {},
   "source": [
    "#### <font color=\"red\">Write your answer here.</font>\n",
    "#### <font color=\"green\">The analogy that does not hold is man:shoe :: horse:horseshoe. Incorrect value of b according to the word vectors is: 'horses'</font>"
   ]
  },
  {
   "cell_type": "markdown",
   "metadata": {},
   "source": [
    "### Question 2.7: Guided Analysis of Bias in Word Vectors [written] (1 point)\n",
    "\n",
    "It's important to be cognizant of the biases (gender, race, sexual orientation etc.) implicit in our word embeddings. Bias can be dangerous because it can reinforce stereotypes through applications that employ these models.\n",
    "\n",
    "Run the cell below, to examine (a) which terms are most similar to \"woman\" and \"worker\" and most dissimilar to \"man\", and (b) which terms are most similar to \"man\" and \"worker\" and most dissimilar to \"woman\". Point out the difference between the list of female-associated words and the list of male-associated words, and explain how it is reflecting gender bias."
   ]
  },
  {
   "cell_type": "code",
   "execution_count": 1592,
   "metadata": {},
   "outputs": [
    {
     "name": "stdout",
     "output_type": "stream",
     "text": [
      "[('employee', 0.6375864148139954),\n",
      " ('workers', 0.6068919897079468),\n",
      " ('nurse', 0.5837947726249695),\n",
      " ('pregnant', 0.5363885164260864),\n",
      " ('mother', 0.5321308374404907),\n",
      " ('employer', 0.5127025842666626),\n",
      " ('teacher', 0.5099576711654663),\n",
      " ('child', 0.5096741914749146),\n",
      " ('homemaker', 0.5019454956054688),\n",
      " ('nurses', 0.4970572292804718)]\n",
      "\n",
      "[('workers', 0.611325740814209),\n",
      " ('employee', 0.5983108878135681),\n",
      " ('working', 0.5615329146385193),\n",
      " ('laborer', 0.5442320704460144),\n",
      " ('unemployed', 0.5368517637252808),\n",
      " ('job', 0.5278827548027039),\n",
      " ('work', 0.5223963260650635),\n",
      " ('mechanic', 0.5088937282562256),\n",
      " ('worked', 0.505452036857605),\n",
      " ('factory', 0.4940453767776489)]\n"
     ]
    }
   ],
   "source": [
    "# Run this cell\n",
    "# Here `positive` indicates the list of words to be similar to and `negative` indicates the list of words to be\n",
    "# most dissimilar from.\n",
    "pprint.pprint(wv_from_bin.most_similar(positive=['woman', 'worker'], negative=['man']))\n",
    "print()\n",
    "pprint.pprint(wv_from_bin.most_similar(positive=['man', 'worker'], negative=['woman']))"
   ]
  },
  {
   "cell_type": "markdown",
   "metadata": {},
   "source": [
    "#### <font color=\"red\">Write your answer here.</font>\n",
    "#### <font color=\"green\">The difference between the list of female-associated words and the list of male-associtated words is that they are biased which can be dangerous. For example, female-associated words include 'nurse' but not doctor which implies that woman are mostly not doctors but nurses who help them. Also, they are 'teacher' which is a job mostly occupied by woman but it should not mean that 'woman' should be related with that gender neutral job description. Moreover, female-associated words are mostly domestic words such as 'mother', 'pregnant', 'homemaker' which seems to be implying that woman are mostly housewives and not analytical solvers. This is not the case for male-associated words since we do not see words such as 'dad', 'child', 'father'. Also, female-associated words do not include analytical professions such as 'engineer', 'mechanic', and 'doctor' whereas, male-associated words include 'mechanic', 'factory' which bears the bias that male are rational, analytical beings whereas woman lack these capabilities and generally don't occupy those professions. These gender biases are clearly reflected in the lists above with women being related to housewives, nurses but not doctors, and mechanics.</font>"
   ]
  },
  {
   "cell_type": "markdown",
   "metadata": {},
   "source": [
    "### Question 2.8: Independent Analysis of Bias in Word Vectors [code + written]  (1 point)\n",
    "\n",
    "Use the `most_similar` function to find another case where some bias is exhibited by the vectors. Please briefly explain the example of bias that you discover."
   ]
  },
  {
   "cell_type": "code",
   "execution_count": 1593,
   "metadata": {},
   "outputs": [
    {
     "name": "stdout",
     "output_type": "stream",
     "text": [
      "[('pregnant', 0.60175621509552),\n",
      " ('kills', 0.5748392343521118),\n",
      " ('killing', 0.5688517093658447),\n",
      " ('abduct', 0.5524265170097351),\n",
      " ('killed', 0.5416921377182007),\n",
      " ('marry', 0.5254436731338501),\n",
      " ('injure', 0.5245661735534668),\n",
      " ('shoot', 0.5180408954620361),\n",
      " ('kidnap', 0.5099829435348511),\n",
      " ('suicide', 0.5027544498443604)]\n"
     ]
    }
   ],
   "source": [
    "# ------------------\n",
    "# Write your implementation here.\n",
    "pprint.pprint(wv_from_bin.most_similar(positive=['woman', 'kill'], negative=['man']))\n",
    "\n",
    "# ------------------"
   ]
  },
  {
   "cell_type": "markdown",
   "metadata": {},
   "source": [
    "#### <font color=\"red\">Write your answer here.</font>\n",
    "#### <font color=\"green\">The above example showcases the bias that man kill and start wars whereas, women give birth (bring life) and nourish. We see this implied with 'pregnant' being returned for woman instead of some act which inflicts harm on another. In here 'kill' is a gender neutral verb but the word embeddings seems to apply that 'kill' belongs to 'man' like 'pregnant' belongs to 'woman'.</font>"
   ]
  },
  {
   "cell_type": "markdown",
   "metadata": {},
   "source": [
    "### Question 2.9: Thinking About Bias [written] (2 points)\n",
    "\n",
    "Give one explanation of how bias gets into the word vectors. What is an experiment that you could do to test for or to measure this source of bias?"
   ]
  },
  {
   "cell_type": "markdown",
   "metadata": {},
   "source": [
    "#### <font color=\"red\">Write your answer here.</font>\n",
    "#### <font color=\"green\"> Bias gets into the word vectors from the training data that is used to learn these embedding vectors. In other words, the gender-neutral terms acquire stereotype and bias due to the context in which they are present in the corpus. For instance, if we use sentences gathered from the internet (such as tweets), it is likely that these sentences would be reflecting the biases of the ones who published those sentences on the internet. As a results the dataset would have biased training data which would result in embedding word vectors reflecting those biases that were apparent in the training data. To test or measure this source of bias, one can use pre-known sets that define the concept of gender itself and other sets that include gender specific words for both male and female. Then using these sets one can calculate the distance between gender specific words both for male and female to the gender neutral words and see if embedding vectors are biased. This would give an idea of the present gender bias/stereotypes in the embedding vectors but a similar technique could be applied to get other types of biases too with different sets. In other words, a process which allows us to measure the diversion between the neutral words component of neutral word embedding and its gender direction can be used to measure this bias.</font>"
   ]
  },
  {
   "cell_type": "markdown",
   "metadata": {},
   "source": [
    "## Part 3: Sentiment Analysis (15 points)"
   ]
  },
  {
   "cell_type": "markdown",
   "metadata": {},
   "source": [
    "Lastly, you will implement a simple sentiment classifier from scratch by using the Deep Averaging Network (DAN) proposed in the [paper](https://aclanthology.org/P15-1162.pdf). The model is based on the following three steps:\n",
    "\n",
    "- Take the vector average of the embeddings associated with the words in the inputs\n",
    "- Pass that average vector through one or more feed-forward layers\n",
    "- Perform linear classification on the final layer’s representation\n",
    "\n",
    "\n",
    "Here, you will use Stanford Sentiment Treebank (SST) dataset but note that in this dataset, the sentiment levels are originally represented with real values. Hence, you need to discretize these values into the following five classes:\n",
    "\n",
    "\n",
    "- 0: \"very negative\" ($\\le 0.2$),\n",
    "- 1: \"negative\" ($\\le 0.4$), \n",
    "- 2: \"neutral\" ($\\le 0.6$), \n",
    "- 3: \"positive\" ($\\le 0.8$), \n",
    "- 4: \"very positive\" ($>$ 0.8)\n",
    "\n",
    "You can download the dataset [here](https://nlp.stanford.edu/sentiment/) (Download the \"**Main zip file with readme (6mb)**\" version). Please read `README.txt` in details, that comes with the .zip folder.\n",
    "\n",
    "**Create a /data directory to store your SST data and unzip your downloaded folder there.** Your data path should be like following:\n",
    "\n",
    "```\n",
    "./comp541-441/assignment1/data\n",
    "                            └── stanfordSentimentTreebank\n",
    "                                ├── README.txt\n",
    "                                ├── SOStr.txt\n",
    "                                ├── STree.txt\n",
    "                                ├── datasetSentences.txt\n",
    "                                ├── datasetSplit.txt\n",
    "                                ├── dictionary.txt\n",
    "                                ├── original_rt_snippets.txt\n",
    "                                └── sentiment_labels.txt\n",
    "```\n",
    "\n",
    "In your experiments, perform the following experiments and explain your findings:\n",
    "\n",
    "- Provide your loss curves by plotting them clearly,\n",
    "- Play with the number of layers,\n",
    "- Try with embeddings trained on different corpuses"
   ]
  },
  {
   "cell_type": "code",
   "execution_count": 1594,
   "metadata": {},
   "outputs": [],
   "source": [
    "# ------------------\n",
    "# Start your implementation here.\n",
    "import torch\n",
    "import random\n",
    "import numpy as np\n",
    "\n",
    "def set_seed(seed=42):\n",
    "    torch.manual_seed(seed)\n",
    "    random.seed(seed)\n",
    "    np.random.seed(seed)"
   ]
  },
  {
   "cell_type": "code",
   "execution_count": 1595,
   "metadata": {},
   "outputs": [],
   "source": [
    "set_seed(42) # set seed for reproducibility\n",
    "verbose = True"
   ]
  },
  {
   "cell_type": "code",
   "execution_count": 1596,
   "metadata": {},
   "outputs": [],
   "source": [
    "# ====================== Pretrained Word Embeddings: ======================"
   ]
  },
  {
   "cell_type": "code",
   "execution_count": 1597,
   "metadata": {},
   "outputs": [],
   "source": [
    "def load_and_return_word_embeddings(embedding_name = \"glove-wiki-gigaword-200\", size=400000):\n",
    "    \"\"\"\n",
    "    Inputs:\n",
    "        embedding_name (str): embedding to load using api.load()\n",
    "        size (int): number of word embeddings to sample from the pre trained word embeddings\n",
    "    Returns:\n",
    "        M: numpy matrix shape (num words, 200) containing the vectors\n",
    "        word2ind: dictionary mapping each word to its row number in M \n",
    "    \"\"\"\n",
    "    # Load Pre trained Word Embedding Vectors\n",
    "    def load_embedding_model(embedding_name):\n",
    "        \"\"\" Load GloVe Vectors\n",
    "            Return:\n",
    "                wv_from_bin: All 400000 embeddings, each lengh 200\n",
    "        \"\"\"\n",
    "        import gensim.downloader as api\n",
    "        wv_from_bin = api.load(embedding_name)\n",
    "        print(\"Loaded vocab size %i\" % len(wv_from_bin.vocab.keys()))\n",
    "        return wv_from_bin\n",
    "    \n",
    "    wv_from_bin = load_embedding_model(embedding_name)\n",
    "    \n",
    "    \n",
    "    def get_matrix_of_vectors(wv_from_bin, size):\n",
    "        \"\"\" Put the GloVe vectors into a matrix M.\n",
    "            Param:\n",
    "                wv_from_bin: KeyedVectors object; the 400000 GloVe vectors loaded from file\n",
    "                size: number of word embeddings to sample from the pre trained word embeddings\n",
    "            Return:\n",
    "                M: numpy matrix shape (num words, 200) containing the vectors\n",
    "                word2ind: dictionary mapping each word to its row number in M\n",
    "        \"\"\"\n",
    "        import random\n",
    "        words = list(wv_from_bin.vocab.keys())\n",
    "        print(\"Shuffling words ...\")\n",
    "        random.seed(224)\n",
    "        random.shuffle(words)\n",
    "        words = words[:size]\n",
    "        print(\"Putting %i words into word2ind and matrix M...\" % len(words))\n",
    "        word2ind = {}\n",
    "        M = []\n",
    "        curInd = 0\n",
    "        for w in words:\n",
    "            try:\n",
    "                M.append(wv_from_bin.word_vec(w))\n",
    "                word2ind[w] = curInd\n",
    "                curInd += 1\n",
    "            except KeyError:\n",
    "                continue\n",
    "        M = np.stack(M)\n",
    "        print(\"Done.\")\n",
    "        return M, word2ind\n",
    "    \n",
    "    M, word2ind = get_matrix_of_vectors(wv_from_bin, size) # max_size = 400_000 for glove\n",
    "    return M, word2ind"
   ]
  },
  {
   "cell_type": "code",
   "execution_count": 1598,
   "metadata": {},
   "outputs": [],
   "source": [
    "# embedding_names with glove trained on different corpuses\n",
    "embedding_name_list = [\"glove-wiki-gigaword-200\", \"glove-twitter-200\"]\n",
    "chosen_embedding_name = embedding_name_list[0]"
   ]
  },
  {
   "cell_type": "code",
   "execution_count": 1599,
   "metadata": {},
   "outputs": [
    {
     "name": "stdout",
     "output_type": "stream",
     "text": [
      "Loaded vocab size 400000\n",
      "Shuffling words ...\n",
      "Putting 400000 words into word2ind and matrix M...\n",
      "Done.\n"
     ]
    }
   ],
   "source": [
    "M, word2ind = load_and_return_word_embeddings(embedding_name = chosen_embedding_name, size=400000)\n",
    "# Sample usage :\n",
    "# M[word2ind['happy']] = word embedding for 'happy'"
   ]
  },
  {
   "cell_type": "code",
   "execution_count": 1600,
   "metadata": {},
   "outputs": [],
   "source": [
    "# ====================== Dataset Loading(HuggingFace): ======================"
   ]
  },
  {
   "cell_type": "code",
   "execution_count": 1601,
   "metadata": {},
   "outputs": [
    {
     "name": "stdout",
     "output_type": "stream",
     "text": [
      "Requirement already satisfied: datasets in /home/cangozpi/miniconda3/envs/comp541/lib/python3.7/site-packages (2.6.1)\n",
      "Requirement already satisfied: fsspec[http]>=2021.11.1 in /home/cangozpi/miniconda3/envs/comp541/lib/python3.7/site-packages (from datasets) (2022.10.0)\n",
      "Requirement already satisfied: packaging in /home/cangozpi/miniconda3/envs/comp541/lib/python3.7/site-packages (from datasets) (21.3)\n",
      "Requirement already satisfied: aiohttp in /home/cangozpi/miniconda3/envs/comp541/lib/python3.7/site-packages (from datasets) (3.8.3)\n",
      "Requirement already satisfied: multiprocess in /home/cangozpi/miniconda3/envs/comp541/lib/python3.7/site-packages (from datasets) (0.70.13)\n",
      "Requirement already satisfied: pandas in /home/cangozpi/miniconda3/envs/comp541/lib/python3.7/site-packages (from datasets) (1.3.5)\n",
      "Requirement already satisfied: pyyaml>=5.1 in /home/cangozpi/miniconda3/envs/comp541/lib/python3.7/site-packages (from datasets) (6.0)\n",
      "Requirement already satisfied: dill<0.3.6 in /home/cangozpi/miniconda3/envs/comp541/lib/python3.7/site-packages (from datasets) (0.3.5.1)\n",
      "Requirement already satisfied: tqdm>=4.62.1 in /home/cangozpi/miniconda3/envs/comp541/lib/python3.7/site-packages (from datasets) (4.64.1)\n",
      "Requirement already satisfied: responses<0.19 in /home/cangozpi/miniconda3/envs/comp541/lib/python3.7/site-packages (from datasets) (0.18.0)\n",
      "Requirement already satisfied: importlib-metadata in /home/cangozpi/miniconda3/envs/comp541/lib/python3.7/site-packages (from datasets) (4.11.3)\n",
      "Requirement already satisfied: xxhash in /home/cangozpi/miniconda3/envs/comp541/lib/python3.7/site-packages (from datasets) (3.1.0)\n",
      "Requirement already satisfied: huggingface-hub<1.0.0,>=0.2.0 in /home/cangozpi/miniconda3/envs/comp541/lib/python3.7/site-packages (from datasets) (0.10.1)\n",
      "Requirement already satisfied: requests>=2.19.0 in /home/cangozpi/miniconda3/envs/comp541/lib/python3.7/site-packages (from datasets) (2.28.1)\n",
      "Requirement already satisfied: pyarrow>=6.0.0 in /home/cangozpi/miniconda3/envs/comp541/lib/python3.7/site-packages (from datasets) (10.0.0)\n",
      "Requirement already satisfied: numpy>=1.17 in /home/cangozpi/miniconda3/envs/comp541/lib/python3.7/site-packages (from datasets) (1.21.5)\n",
      "Requirement already satisfied: typing-extensions>=3.7.4 in /home/cangozpi/miniconda3/envs/comp541/lib/python3.7/site-packages (from aiohttp->datasets) (4.3.0)\n",
      "Requirement already satisfied: aiosignal>=1.1.2 in /home/cangozpi/miniconda3/envs/comp541/lib/python3.7/site-packages (from aiohttp->datasets) (1.2.0)\n",
      "Requirement already satisfied: multidict<7.0,>=4.5 in /home/cangozpi/miniconda3/envs/comp541/lib/python3.7/site-packages (from aiohttp->datasets) (6.0.2)\n",
      "Requirement already satisfied: charset-normalizer<3.0,>=2.0 in /home/cangozpi/miniconda3/envs/comp541/lib/python3.7/site-packages (from aiohttp->datasets) (2.0.4)\n",
      "Requirement already satisfied: yarl<2.0,>=1.0 in /home/cangozpi/miniconda3/envs/comp541/lib/python3.7/site-packages (from aiohttp->datasets) (1.8.1)\n",
      "Requirement already satisfied: asynctest==0.13.0 in /home/cangozpi/miniconda3/envs/comp541/lib/python3.7/site-packages (from aiohttp->datasets) (0.13.0)\n",
      "Requirement already satisfied: attrs>=17.3.0 in /home/cangozpi/miniconda3/envs/comp541/lib/python3.7/site-packages (from aiohttp->datasets) (21.4.0)\n",
      "Requirement already satisfied: async-timeout<5.0,>=4.0.0a3 in /home/cangozpi/miniconda3/envs/comp541/lib/python3.7/site-packages (from aiohttp->datasets) (4.0.2)\n",
      "Requirement already satisfied: frozenlist>=1.1.1 in /home/cangozpi/miniconda3/envs/comp541/lib/python3.7/site-packages (from aiohttp->datasets) (1.3.1)\n",
      "Requirement already satisfied: filelock in /home/cangozpi/miniconda3/envs/comp541/lib/python3.7/site-packages (from huggingface-hub<1.0.0,>=0.2.0->datasets) (3.8.0)\n",
      "Requirement already satisfied: pyparsing!=3.0.5,>=2.0.2 in /home/cangozpi/miniconda3/envs/comp541/lib/python3.7/site-packages (from packaging->datasets) (3.0.9)\n",
      "Requirement already satisfied: idna<4,>=2.5 in /home/cangozpi/miniconda3/envs/comp541/lib/python3.7/site-packages (from requests>=2.19.0->datasets) (3.4)\n",
      "Requirement already satisfied: certifi>=2017.4.17 in /home/cangozpi/miniconda3/envs/comp541/lib/python3.7/site-packages (from requests>=2.19.0->datasets) (2022.9.24)\n",
      "Requirement already satisfied: urllib3<1.27,>=1.21.1 in /home/cangozpi/miniconda3/envs/comp541/lib/python3.7/site-packages (from requests>=2.19.0->datasets) (1.26.12)\n",
      "Requirement already satisfied: zipp>=0.5 in /home/cangozpi/miniconda3/envs/comp541/lib/python3.7/site-packages (from importlib-metadata->datasets) (3.8.0)\n",
      "Requirement already satisfied: pytz>=2017.3 in /home/cangozpi/miniconda3/envs/comp541/lib/python3.7/site-packages (from pandas->datasets) (2022.1)\n",
      "Requirement already satisfied: python-dateutil>=2.7.3 in /home/cangozpi/miniconda3/envs/comp541/lib/python3.7/site-packages (from pandas->datasets) (2.8.2)\n",
      "Requirement already satisfied: six>=1.5 in /home/cangozpi/miniconda3/envs/comp541/lib/python3.7/site-packages (from python-dateutil>=2.7.3->pandas->datasets) (1.16.0)\n"
     ]
    }
   ],
   "source": [
    "!pip install datasets"
   ]
  },
  {
   "cell_type": "code",
   "execution_count": 1602,
   "metadata": {},
   "outputs": [],
   "source": [
    "def get_preprocessed_dataset(verbose=True):\n",
    "    def load_dataset_from_huggingface():\n",
    "        # Load Preprocessed Dataset from Huggingface. For further info: https://huggingface.co/datasets/SetFit/sst5\n",
    "        from datasets import load_dataset\n",
    "\n",
    "        dataset = load_dataset(\"SetFit/sst5\")\n",
    "        dataset = dataset.remove_columns(\"label_text\")\n",
    "        if verbose:\n",
    "            print('\\nSample row of unprocessed training data: \\n', dataset['train'][0])\n",
    "        return dataset\n",
    "    \n",
    "    dataset = load_dataset_from_huggingface()\n",
    "    \n",
    "    \n",
    "    # Preprocess text data (split words, lower case, remove punctuation, remove stop words):\n",
    "    # Text Preprocessing helper function\n",
    "    def get_preprocessed_text(data):\n",
    "        \"\"\"\n",
    "        Given dict with key: 'text' holding sentence as string, preprocesses the text inside it and returns list of preprocessed words (split words, lower case, remove punctuation, remove stop words)\n",
    "        Input:\n",
    "            data (dict): dictionary with keys: 'text' and 'label'\n",
    "        Output:\n",
    "            data (dict): dict with preprocessed 'text' value. data.keys: 'text' and 'label'. \n",
    "        \"\"\"\n",
    "        import re\n",
    "        import string\n",
    "\n",
    "        stopwords = ['i', 'me', 'my', 'myself', 'we', 'our', 'ours', 'ourselves', 'you', \"you're\", \"you've\", \"you'll\", \"you'd\", 'your', 'yours', 'yourself', 'yourselves', 'he', 'him', 'his', 'himself', 'she', \"she's\", 'her', 'hers', 'herself', 'it', \"it's\", 'its', 'itself', 'they', 'them', 'their', 'theirs', 'themselves', 'what', 'which', 'who', 'whom', 'this', 'that', \"that'll\", 'these', 'those', 'am', 'is', 'are', 'was', 'were', 'be', 'been', 'being', 'have', 'has', 'had', 'having', 'do', 'does', 'did', 'doing', 'a', 'an', 'the', 'and', 'but', 'if', 'or', 'because', 'as', 'until', 'while', 'of', 'at', 'by', 'for', 'with', 'about', 'against', 'between', 'into', 'through', 'during', 'before', 'after', 'above', 'below', 'to', 'from', 'up', 'down', 'in', 'out', 'on', 'off', 'over', 'under', 'again', 'further', 'then', 'once', 'here', 'there', 'when', 'where', 'why', 'how', 'all', 'any', 'both', 'each', 'few', 'more', 'most', 'other', 'some', 'such', 'no', 'nor', 'not', 'only', 'own', 'same', 'so', 'than', 'too', 'very', 's', 't', 'can', 'will', 'just', 'don', \"don't\", 'should', \"should've\", 'now', 'd', 'll', 'm', 'o', 're', 've', 'y', 'ain', 'aren', \"aren't\", 'couldn', \"couldn't\", 'didn', \"didn't\", 'doesn', \"doesn't\", 'hadn', \"hadn't\", 'hasn', \"hasn't\", 'haven', \"haven't\", 'isn', \"isn't\", 'ma', 'mightn', \"mightn't\", 'mustn', \"mustn't\", 'needn', \"needn't\", 'shan', \"shan't\", 'shouldn', \"shouldn't\", 'wasn', \"wasn't\", 'weren', \"weren't\", 'won', \"won't\", 'wouldn', \"wouldn't\"]\n",
    "\n",
    "        sentence = data['text']\n",
    "        exp = r'\\W+'\n",
    "        words = re.split(exp, sentence)\n",
    "        # remove punctuation, convert to lower case, remove stop words\n",
    "        table = str.maketrans('', '', string.punctuation)\n",
    "        stripped = [w.translate(table).lower() for w in words if w not in stopwords] # type = list\n",
    "        data['text'] = stripped\n",
    "        return data\n",
    "\n",
    "    dataset = dataset.map(get_preprocessed_text)\n",
    "    if verbose:\n",
    "        print('\\nSample row of training data after preprocessing sentences: \\n', dataset['train'][0])\n",
    "    \n",
    "    return dataset"
   ]
  },
  {
   "cell_type": "code",
   "execution_count": 1603,
   "metadata": {},
   "outputs": [
    {
     "name": "stderr",
     "output_type": "stream",
     "text": [
      "Using custom data configuration SetFit--sst5-d2e5c627328623df\n",
      "Found cached dataset json (/home/cangozpi/.cache/huggingface/datasets/SetFit___json/SetFit--sst5-d2e5c627328623df/0.0.0/e6070c77f18f01a5ad4551a8b7edfba20b8438b7cad4d94e6ad9378022ce4aab)\n"
     ]
    },
    {
     "data": {
      "application/vnd.jupyter.widget-view+json": {
       "model_id": "d595a426ef3d4fa0ab7f92b56cd385d7",
       "version_major": 2,
       "version_minor": 0
      },
      "text/plain": [
       "  0%|          | 0/3 [00:00<?, ?it/s]"
      ]
     },
     "metadata": {},
     "output_type": "display_data"
    },
    {
     "name": "stderr",
     "output_type": "stream",
     "text": [
      "Loading cached processed dataset at /home/cangozpi/.cache/huggingface/datasets/SetFit___json/SetFit--sst5-d2e5c627328623df/0.0.0/e6070c77f18f01a5ad4551a8b7edfba20b8438b7cad4d94e6ad9378022ce4aab/cache-3962d4a8b5e570e5.arrow\n",
      "Loading cached processed dataset at /home/cangozpi/.cache/huggingface/datasets/SetFit___json/SetFit--sst5-d2e5c627328623df/0.0.0/e6070c77f18f01a5ad4551a8b7edfba20b8438b7cad4d94e6ad9378022ce4aab/cache-9bd41474a0bda42d.arrow\n",
      "Loading cached processed dataset at /home/cangozpi/.cache/huggingface/datasets/SetFit___json/SetFit--sst5-d2e5c627328623df/0.0.0/e6070c77f18f01a5ad4551a8b7edfba20b8438b7cad4d94e6ad9378022ce4aab/cache-7fd99a57dfbadd64.arrow\n"
     ]
    },
    {
     "name": "stdout",
     "output_type": "stream",
     "text": [
      "\n",
      "Sample row of unprocessed training data: \n",
      " {'text': 'a stirring , funny and finally transporting re-imagining of beauty and the beast and 1930s horror films', 'label': 4}\n",
      "\n",
      "Sample row of training data after preprocessing sentences: \n",
      " {'text': ['stirring', 'funny', 'finally', 'transporting', 'imagining', 'beauty', 'beast', '1930s', 'horror', 'films'], 'label': 4}\n"
     ]
    }
   ],
   "source": [
    "dataset = get_preprocessed_dataset(verbose)"
   ]
  },
  {
   "cell_type": "code",
   "execution_count": 1604,
   "metadata": {},
   "outputs": [
    {
     "name": "stdout",
     "output_type": "stream",
     "text": [
      "DatasetDict({\n",
      "    train: Dataset({\n",
      "        features: ['text', 'label'],\n",
      "        num_rows: 8544\n",
      "    })\n",
      "    test: Dataset({\n",
      "        features: ['text', 'label'],\n",
      "        num_rows: 2210\n",
      "    })\n",
      "    validation: Dataset({\n",
      "        features: ['text', 'label'],\n",
      "        num_rows: 1101\n",
      "    })\n",
      "})\n"
     ]
    }
   ],
   "source": [
    "# Checkout processed dataset\n",
    "if verbose:\n",
    "    print(dataset)"
   ]
  },
  {
   "cell_type": "code",
   "execution_count": 1605,
   "metadata": {},
   "outputs": [],
   "source": [
    "# Parameters\n",
    "dropout_p = 0.3 # probability of dropping a word vector\n",
    "input_dim = 200 # dimension of the word embedding vectors"
   ]
  },
  {
   "cell_type": "code",
   "execution_count": 1606,
   "metadata": {},
   "outputs": [],
   "source": [
    "import torch\n",
    "from torch.utils.data import DataLoader\n",
    "from datasets import Features\n",
    "\n",
    "# Converts words to corresponding word embedding vectors, and applies dropout regularization on words of the sentence\n",
    "def collate_fn_dropout_regularization(batch):\n",
    "    B = len(batch)\n",
    "    new_batch = {}\n",
    "    new_batch['label'] = torch.zeros((B), dtype=torch.int64) # placeholder values\n",
    "    new_batch['averaged_vector'] = torch.zeros((B, input_dim), dtype=torch.float32) # placeholder values\n",
    "    \n",
    "    for cur_index, e in enumerate(batch):\n",
    "        # Convert sentence in 'text' to average of its word embeddings\n",
    "        # Word Embeddings preprocessing helper function\n",
    "        def preprocess_text_embeddings(data):\n",
    "            \"\"\"\n",
    "            Maps sentences to averaged sum of word embedding vectors according to word2ind and M.\n",
    "            Input:\n",
    "                data (dict): dictionary with keys: 'text' and 'label'\n",
    "            Output:\n",
    "                data (dict): dict with aveeraged word embedding as 'text' value. data.keys: 'text' and 'label'. \n",
    "            \"\"\"\n",
    "            # Convert words to word embedding vectors\n",
    "            sentence = data['text']\n",
    "            mapped_sentence = [M[word2ind[w]] for w in sentence if w in word2ind]\n",
    "\n",
    "            # Apply Dropout Regularization\n",
    "            dropped_sentence = [w_embed for w_embed in mapped_sentence if random.random() <= (1 - dropout_p)]\n",
    "\n",
    "            # Average word embeddings of the sentence (aggregation)\n",
    "            if len(mapped_sentence) > 0:\n",
    "                data['averaged_vector'] = np.mean(mapped_sentence, axis=0, dtype=np.float32)\n",
    "            else: # handle no word in the sentence having a corresponding word embedding vector in M\n",
    "                data['averaged_vector'] = np.zeros(M.shape[1])\n",
    "\n",
    "            # Convert averaged_vector to Torch Tensor\n",
    "            data['averaged_vector'] = torch.tensor(data['averaged_vector'], dtype=torch.float32)\n",
    "            return data\n",
    "\n",
    "        cur_processed_data = preprocess_text_embeddings(e)\n",
    "        new_batch['averaged_vector'][cur_index, :] = cur_processed_data['averaged_vector']\n",
    "        new_batch['label'][cur_index] = cur_processed_data['label']\n",
    "    \n",
    "    return new_batch\n",
    "\n",
    "def get_dataloaders(dataset):\n",
    "    features = Features({'averaged_vector':torch.float32, 'label': torch.int32})\n",
    "    dataset.features = features\n",
    "\n",
    "    dataset.set_format(type=\"torch\", columns=[\"text\", \"label\"])\n",
    "    train_data = DataLoader(dataset['train'], batch_size=32, shuffle=True, collate_fn=collate_fn_dropout_regularization)\n",
    "    val_data = DataLoader(dataset['validation'], batch_size=32, shuffle=False, collate_fn=collate_fn_dropout_regularization)\n",
    "    test_data = DataLoader(dataset['test'], batch_size=32, shuffle=False, collate_fn=collate_fn_dropout_regularization)\n",
    "    \n",
    "    return train_data, val_data, test_data"
   ]
  },
  {
   "cell_type": "code",
   "execution_count": 1607,
   "metadata": {},
   "outputs": [],
   "source": [
    "# get pytorch dataloaders from preprocessed dataset\n",
    "train_data, val_data, test_data = get_dataloaders(dataset)"
   ]
  },
  {
   "cell_type": "code",
   "execution_count": 1608,
   "metadata": {},
   "outputs": [
    {
     "name": "stdout",
     "output_type": "stream",
     "text": [
      "Sample averaged_vector: torch.Size([32, 200]) \n",
      "\n",
      "Sample labels: tensor([4, 1, 2, 1, 1, 0, 1, 3, 3, 1, 4, 1, 0, 3, 2, 4, 3, 1, 2, 2, 0, 1, 2, 2,\n",
      "        3, 2, 3, 3, 3, 0, 3, 1])\n"
     ]
    }
   ],
   "source": [
    "# Check out a batch of training data\n",
    "if verbose:\n",
    "    sample_batch = next(iter(train_data))\n",
    "    print('Sample averaged_vector:', sample_batch['averaged_vector'].shape, '\\n\\nSample labels:', sample_batch['label'])"
   ]
  },
  {
   "cell_type": "code",
   "execution_count": 1609,
   "metadata": {},
   "outputs": [],
   "source": [
    "# ====================== Building Model: ======================"
   ]
  },
  {
   "cell_type": "code",
   "execution_count": 1610,
   "metadata": {},
   "outputs": [],
   "source": [
    "from torch import nn\n",
    "\n",
    "class DAN(nn.Module):\n",
    "    def __init__(self, input_dim = 200, num_classes = 5, hidden_layer_dims = [128, 64, 32]):\n",
    "        super().__init__()\n",
    "        # Note that, num_classes = 5 = len([very positive, positive, neutral, negative, very negative])\n",
    "        # and input_dim = 200 = word embedding dimension\n",
    "        \n",
    "        hidden_layer_dims = [input_dim, *hidden_layer_dims, num_classes]\n",
    "        \n",
    "        modules = []\n",
    "        for i in range(len(hidden_layer_dims)):\n",
    "            if i < (len(hidden_layer_dims) - 1):\n",
    "                if i == (len(hidden_layer_dims) - 2):\n",
    "                    modules.append(torch.nn.Linear(hidden_layer_dims[i], hidden_layer_dims[i+1]))\n",
    "                else:\n",
    "                    modules.extend([torch.nn.Linear(hidden_layer_dims[i], hidden_layer_dims[i+1]), torch.nn.ReLU()])\n",
    "            \n",
    "        self.model = torch.nn.Sequential(\n",
    "            # fc layers\n",
    "            *modules,\n",
    "            \n",
    "            # softmax layer\n",
    "            torch.nn.Softmax(dim=-1)\n",
    "        )\n",
    "    \n",
    "    def forward(self, x):\n",
    "        \"\"\"\n",
    "        inputs:\n",
    "            x (torch.tensor) = --> [B, word_vec_dim] (i.e. [32, 200])\n",
    "        returns:\n",
    "            y (torch.tensor) = --> [B, num_classes] (i.e. [32, 5]). returns probability distribution over classes.\n",
    "        \"\"\"\n",
    "        return self.model(x)"
   ]
  },
  {
   "cell_type": "code",
   "execution_count": 1611,
   "metadata": {},
   "outputs": [],
   "source": [
    "# ====================== Training & Evaluating & Testing: ======================"
   ]
  },
  {
   "cell_type": "code",
   "execution_count": 1612,
   "metadata": {},
   "outputs": [],
   "source": [
    "def eval_model(model_DAN, verbose):\n",
    "    if verbose:\n",
    "        print(\"============ Evaluating model ============ \")\n",
    "\n",
    "    # Initialize\n",
    "    loss_fn = torch.nn.CrossEntropyLoss()\n",
    "    \n",
    "    # Evaluation Loop\n",
    "    # metrics to track\n",
    "    eval_loss = 0\n",
    "    eval_accuracy = 0\n",
    "\n",
    "    model_DAN.eval()\n",
    "\n",
    "    batch_loss_history = []\n",
    "    batch_accuracy_history = []\n",
    "\n",
    "    for batch in val_data:\n",
    "        X = batch['averaged_vector'] # --> [B, word_vec_dim], (torch.float32)\n",
    "        true_labels = batch['label'] # --> [B], (torch.int64)\n",
    "\n",
    "        with torch.no_grad():\n",
    "            # predict \n",
    "            pred_probs = model_DAN(X) # --> [B, num_classes], (torch.float32)\n",
    "\n",
    "            # calculate loss\n",
    "            loss = loss_fn(pred_probs, true_labels)\n",
    "\n",
    "        # calculate accuracy\n",
    "        pred_labels = torch.argmax(pred_probs, dim=-1).detach().cpu() # --> [B], (torch.int64)\n",
    "        num_correct_preds = torch.sum(true_labels == pred_labels) \n",
    "        accuracy = 100 * (num_correct_preds / true_labels.shape[0])\n",
    "\n",
    "\n",
    "        # record metrics for current batch\n",
    "        batch_loss_history.append(loss.detach().cpu().numpy())\n",
    "        batch_accuracy_history.append(accuracy.detach().cpu().numpy())\n",
    "\n",
    "\n",
    "    # record averaged metrics \n",
    "    eval_loss = np.mean(batch_loss_history)\n",
    "    eval_accuracy = np.mean(batch_accuracy_history)\n",
    "    if verbose:\n",
    "        print(f\"validation_loss: {eval_loss}, validation_accuracy: {eval_accuracy}\")\n",
    "        \n",
    "    return (eval_loss, eval_accuracy)"
   ]
  },
  {
   "cell_type": "code",
   "execution_count": 1613,
   "metadata": {},
   "outputs": [],
   "source": [
    "def train_and_evaluate_model(input_dim, num_classes, hidden_layer_dims, lr, epochs, verbose):\n",
    "    if verbose:\n",
    "        print(\"============ Training model ============ \")\n",
    "        \n",
    "    # Initialize\n",
    "    model_DAN = DAN(input_dim, num_classes, hidden_layer_dims)\n",
    "    optimizer = torch.optim.Adagrad(model_DAN.parameters(), lr)\n",
    "    loss_fn = torch.nn.CrossEntropyLoss()\n",
    "    \n",
    "    # Training Loop\n",
    "    # metrics to track\n",
    "    train_loss_history = []\n",
    "    train_accuracy_history = []\n",
    "    eval_loss_history = []\n",
    "    eval_accuracy_history = []\n",
    "\n",
    "\n",
    "    for i in range(epochs):\n",
    "        model_DAN.train()\n",
    "        \n",
    "        batch_loss_history = []\n",
    "        batch_accuracy_history = []\n",
    "\n",
    "        for batch in train_data:\n",
    "            X = batch['averaged_vector'] # --> [B, word_vec_dim], (torch.float32)\n",
    "            true_labels = batch['label'] # --> [B], (torch.int64)\n",
    "            \n",
    "            # predict \n",
    "            pred_probs = model_DAN(X) # --> [B, num_classes], (torch.float32)\n",
    "\n",
    "            # calculate loss\n",
    "            loss = loss_fn(pred_probs, true_labels)\n",
    "\n",
    "            # update model weights\n",
    "            optimizer.zero_grad()\n",
    "            loss.backward()\n",
    "            optimizer.step()\n",
    "\n",
    "            # calculate accuracy\n",
    "            pred_labels = torch.argmax(pred_probs, dim=-1).detach().cpu() # --> [B], (torch.int64)\n",
    "            num_correct_preds = torch.sum(true_labels == pred_labels) \n",
    "            accuracy = 100 * (num_correct_preds / true_labels.shape[0])\n",
    "\n",
    "\n",
    "            # record metrics for current batch\n",
    "            batch_loss_history.append(loss.detach().cpu().numpy())\n",
    "            batch_accuracy_history.append(accuracy.detach().cpu().numpy())\n",
    "\n",
    "        # evaluate updated model\n",
    "        eval_loss, eval_accuracy = eval_model(model_DAN, verbose)\n",
    "            \n",
    "        # record metrics for current epoch\n",
    "        train_loss_history.append(np.mean(batch_loss_history))\n",
    "        train_accuracy_history.append(np.mean(batch_accuracy_history))\n",
    "        eval_loss_history.append(eval_loss)\n",
    "        eval_accuracy_history.append(eval_accuracy)\n",
    "        \n",
    "        if verbose:\n",
    "            print(f\"epoch: {i}, train_loss: {loss_history[-1]}, train_accuracy: {accuracy_history[-1]}, \\\n",
    "            eval_loss: {eval_loss}, eval_accuracy: {eval_accuracy}\")\n",
    "        \n",
    "    return model_DAN, (train_loss_history, train_accuracy_history), (eval_loss_history, eval_accuracy_history)"
   ]
  },
  {
   "cell_type": "code",
   "execution_count": 1614,
   "metadata": {},
   "outputs": [],
   "source": [
    "def test_model(model_DAN, verbose):\n",
    "    if verbose:\n",
    "        print(\"============ Testing model ============ \")\n",
    "\n",
    "    # Initialize\n",
    "    loss_fn = torch.nn.CrossEntropyLoss()\n",
    "    \n",
    "    # Testing Loop\n",
    "    # metrics to track\n",
    "    test_loss = 0\n",
    "    test_accuracy = 0\n",
    "\n",
    "    model_DAN.eval()\n",
    "\n",
    "    batch_loss_history = []\n",
    "    batch_accuracy_history = []\n",
    "\n",
    "    for batch in test_data:\n",
    "        X = batch['averaged_vector'] # --> [B, word_vec_dim], (torch.float32)\n",
    "        true_labels = batch['label'] # --> [B], (torch.int64)\n",
    "\n",
    "        with torch.no_grad():\n",
    "            # predict \n",
    "            pred_probs = model_DAN(X) # --> [B, num_classes], (torch.float32)\n",
    "\n",
    "            # calculate loss\n",
    "            loss = loss_fn(pred_probs, true_labels)\n",
    "\n",
    "        # calculate accuracy\n",
    "        pred_labels = torch.argmax(pred_probs, dim=-1).detach().cpu() # --> [B], (torch.int64)\n",
    "        num_correct_preds = torch.sum(true_labels == pred_labels) \n",
    "        accuracy = 100 * (num_correct_preds / true_labels.shape[0])\n",
    "\n",
    "\n",
    "        # record metrics for current batch\n",
    "        batch_loss_history.append(loss.detach().cpu().numpy())\n",
    "        batch_accuracy_history.append(accuracy.detach().cpu().numpy())\n",
    "\n",
    "\n",
    "    # record averaged metrics \n",
    "    test_loss = np.mean(batch_loss_history)\n",
    "    test_accuracy = np.mean(batch_accuracy_history)\n",
    "    if verbose:\n",
    "        print(f\"test_loss: {test_loss}, test_accuracy: {test_accuracy}\")\n",
    "        \n",
    "    return (test_loss, test_accuracy)"
   ]
  },
  {
   "cell_type": "code",
   "execution_count": 1615,
   "metadata": {},
   "outputs": [],
   "source": [
    "# ====================== Fine Tuning Hyperparameters: ======================"
   ]
  },
  {
   "cell_type": "code",
   "execution_count": 1616,
   "metadata": {},
   "outputs": [],
   "source": [
    "# # Hyperparameters for training\n",
    "num_classes = 5\n",
    "verbose_train_eval = False\n",
    "\n",
    "# Grid-search for best pair of hyperparameters\n",
    "#hidden_layer_dims_list = [\n",
    "#    [128, 64],\n",
    "#    [128, 64, 32],\n",
    "#    [128, 64, 32, 16],\n",
    "#    [256, 128],\n",
    "#    [256, 128, 64],\n",
    "#    [256, 128, 64, 16]\n",
    "#]\n",
    "#lr_list = [1e-2, 5e-2, 1e-3, 5e-3, 1e-4, 5e-4]\n",
    "#epochs_list = [10, 50, 100, 150]\n",
    "\n",
    "# Note that code below defines a more strict search space than the commented code above.\n",
    "# This is done for reducing the computational time required for running the code.\n",
    "hidden_layer_dims_list = [\n",
    "    [128],\n",
    "    [128, 64],\n",
    "    [128, 64, 32],\n",
    "    [128, 64, 32, 16],\n",
    "    [128, 64, 32, 16, 8]\n",
    "]\n",
    "lr_list = [1e-3]\n",
    "epochs_list = [30]"
   ]
  },
  {
   "cell_type": "code",
   "execution_count": 1617,
   "metadata": {},
   "outputs": [
    {
     "name": "stdout",
     "output_type": "stream",
     "text": [
      "Performing hyperparameters search: 1/5 ...\n",
      "Performing hyperparameters search: 2/5 ...\n",
      "Performing hyperparameters search: 3/5 ...\n",
      "Performing hyperparameters search: 4/5 ...\n",
      "Performing hyperparameters search: 5/5 ...\n",
      "-------------------------------------------------- \n",
      "Best found DAN Model: \n",
      "\tbest_train_loss: 1.4908462762832642\n",
      "\tbest_eval_loss: 1.5066484212875366\n",
      "\tbest_test_loss: 1.4927891492843628\n",
      "\tbest_train_accuracy: 40.203651428222656\n",
      "\tbest_eval_accuracy: 37.30769348144531\n",
      "\tbest_test_accuracy: 40.04464340209961\n",
      "\tbest_hidden_layer_dims: [128, 64, 32, 16, 8]\n",
      "\tbest_lr: 0.001\n",
      "\tbest_epochs: 30\n",
      " --------------------------------------------------\n"
     ]
    }
   ],
   "source": [
    "# Perform Grid Search to find the best combination of hyperparameters\n",
    "best_hidden_layer_dims = None\n",
    "best_lr = None\n",
    "best_epochs = None\n",
    "best_model_DAN = None\n",
    "best_model_train_loss_history = []\n",
    "best_model_train_accuracy_history = []\n",
    "best_model_eval_loss_history = []\n",
    "best_model_eval_accuracy_history = []\n",
    "\n",
    "hidden_layer_search_loss_history = []\n",
    "hidden_layer_search_accuracy_history = []\n",
    "\n",
    "search_counter = 0\n",
    "num_searches = len(hidden_layer_dims_list) * len(lr_list) * len(epochs_list)\n",
    "for hidden_layer_dims in hidden_layer_dims_list:\n",
    "    for lr in lr_list:\n",
    "        for epochs in epochs_list:\n",
    "            # Train& Evaluate Model\n",
    "            model_DAN, train_metrics, eval_metrics = train_and_evaluate_model(input_dim, num_classes, hidden_layer_dims, lr, epochs, verbose_train_eval)\n",
    "            train_loss_history, train_accuracy_history = train_metrics\n",
    "            eval_loss_history, eval_accuracy_history = eval_metrics\n",
    "            \n",
    "            # Evaluate Model\n",
    "            #eval_metrics = eval_model(model_DAN, verbose_train_eval)\n",
    "            #eval_loss, eval_accuracy = eval_metrics\n",
    "            \n",
    "            # Check for best hyperparameters\n",
    "            if len(best_model_eval_loss_history) == 0:\n",
    "                best_hidden_layer_dims = hidden_layer_dims\n",
    "                best_lr = lr\n",
    "                best_epochs = epochs\n",
    "                best_model_DAN = model_DAN\n",
    "                best_model_train_loss_history = train_loss_history\n",
    "                best_model_train_accuracy_history = train_accuracy_history\n",
    "                best_model_eval_loss_history = eval_loss_history\n",
    "                best_model_eval_accuracy_history = eval_accuracy_history\n",
    "            elif eval_loss_history[-1] < best_model_eval_loss_history[-1]:\n",
    "                best_hidden_layer_dims = hidden_layer_dims\n",
    "                best_lr = lr\n",
    "                best_epochs = epochs\n",
    "                best_model_DAN = model_DAN\n",
    "                best_model_train_loss_history = train_loss_history\n",
    "                best_model_train_accuracy_history = train_accuracy_history\n",
    "                best_model_eval_loss_history = eval_loss_history\n",
    "                best_model_eval_accuracy_history = eval_accuracy_history\n",
    "                \n",
    "            search_counter += 1\n",
    "            print(f'Performing hyperparameters search: {search_counter}/{num_searches} ...')\n",
    "    \n",
    "    # Record eval metrics for different hidden_layer depths\n",
    "    hidden_layer_search_loss_history.append(eval_loss_history[-1])\n",
    "    hidden_layer_search_accuracy_history.append(eval_accuracy_history[-1])\n",
    "            \n",
    "            \n",
    "\n",
    "# Test best Model\n",
    "test_metrics = test_model(best_model_DAN, verbose_train_eval)\n",
    "best_model_test_loss, best_model_test_accuracy = test_metrics\n",
    "\n",
    "\n",
    "print('-'*50, f'\\nBest found DAN Model: \\n\\tbest_train_loss: {best_model_train_loss_history[-1]}\\\n",
    "\\n\\tbest_eval_loss: {best_model_eval_loss_history[-1]}\\\n",
    "\\n\\tbest_test_loss: {best_model_test_loss}\\\n",
    "\\n\\tbest_train_accuracy: {best_model_train_accuracy_history[-1]}\\\n",
    "\\n\\tbest_eval_accuracy: {best_model_eval_accuracy_history[-1]}\\\n",
    "\\n\\tbest_test_accuracy: {best_model_test_accuracy}\\\n",
    "\\n\\tbest_hidden_layer_dims: {best_hidden_layer_dims}\\\n",
    "\\n\\tbest_lr: {best_lr}\\\n",
    "\\n\\tbest_epochs: {best_epochs}\\\n",
    "\\n', '-'*50)"
   ]
  },
  {
   "cell_type": "code",
   "execution_count": 1618,
   "metadata": {},
   "outputs": [],
   "source": [
    "# ====================== Plot Best Results: ======================"
   ]
  },
  {
   "cell_type": "code",
   "execution_count": 1619,
   "metadata": {},
   "outputs": [],
   "source": [
    "import matplotlib.pyplot as plt\n",
    "\n",
    "def plot_results():\n",
    "    plt.figure(figsize=(10,4))\n",
    "\n",
    "    # plot loss & accuracy curves\n",
    "    plt.subplot(1, 2, 1)\n",
    "    plt.plot(np.arange(len(best_model_train_loss_history)), best_model_train_loss_history, label=\"training loss\")\n",
    "    plt.plot(np.arange(len(best_model_eval_loss_history)), best_model_eval_loss_history, label=\"evaluation loss\")\n",
    "    plt.title('Loss Curves')\n",
    "    plt.xlabel('epoch')\n",
    "    plt.ylabel('loss')\n",
    "    plt.legend()\n",
    "\n",
    "    plt.subplot(1, 2, 2)\n",
    "    plt.plot(np.arange(len(best_model_train_accuracy_history)), best_model_train_accuracy_history, label=\"training accuracy\")\n",
    "    plt.plot(np.arange(len(best_model_eval_accuracy_history)), best_model_eval_accuracy_history, label=\"evaluation accuracy\")\n",
    "    plt.title('Accuracy Curves')\n",
    "    plt.xlabel('epoch')\n",
    "    plt.ylabel('accuracy (%)')\n",
    "    plt.legend()\n",
    "\n",
    "    plt.show()\n",
    "    \n",
    "    \n",
    "    # plot hidden_dim depth search results\n",
    "    plt.figure(figsize=(10,4))\n",
    "    \n",
    "    plt.subplot(1, 2, 1)\n",
    "    plt.scatter(np.arange(len(hidden_layer_search_loss_history)), hidden_layer_search_loss_history)\n",
    "    plt.title('Hidden Layer Depth Loss Results')\n",
    "    plt.xlabel('depth (number of layers)')\n",
    "    plt.ylabel('loss')\n",
    "    plt.legend()\n",
    "    \n",
    "    plt.subplot(1, 2, 2)\n",
    "    plt.scatter(np.arange(len(hidden_layer_search_accuracy_history)), hidden_layer_search_accuracy_history)\n",
    "    plt.title('Hidden Layer Depth Accuracy Results')\n",
    "    plt.xlabel('depth (number of layers)')\n",
    "    plt.ylabel('accuracy (%)')\n",
    "    plt.legend()\n",
    "    "
   ]
  },
  {
   "cell_type": "code",
   "execution_count": 1620,
   "metadata": {},
   "outputs": [
    {
     "data": {
      "image/png": "[encoded data removed]",
      "text/plain": [
       "<Figure size 1000x400 with 2 Axes>"
      ]
     },
     "metadata": {},
     "output_type": "display_data"
    },
    {
     "name": "stderr",
     "output_type": "stream",
     "text": [
      "No artists with labels found to put in legend.  Note that artists whose label start with an underscore are ignored when legend() is called with no argument.\n",
      "No artists with labels found to put in legend.  Note that artists whose label start with an underscore are ignored when legend() is called with no argument.\n"
     ]
    },
    {
     "data": {
      "image/png": "[encoded data removed]",
      "text/plain": [
       "<Figure size 1000x400 with 2 Axes>"
      ]
     },
     "metadata": {},
     "output_type": "display_data"
    }
   ],
   "source": [
    "plot_results()"
   ]
  },
  {
   "cell_type": "code",
   "execution_count": 1621,
   "metadata": {},
   "outputs": [],
   "source": [
    "# ====================== Discussion of Results: ======================"
   ]
  },
  {
   "cell_type": "markdown",
   "metadata": {},
   "source": [
    "### Discussion of Results:\n",
    "I have performed grid search on some hyperparameters I chose to find the best set of hyperparameters out of those. \n",
    "\n",
    "My findings indicate that the best set is:\n",
    "\n",
    "    * lr: 1e-2\n",
    "    * epochs: 30\n",
    "    * hidden layer depth: 2\n",
    "    * pretrained word embeddings: 'glove-wiki-gigaword-200'\n",
    "    * dropout_p = 0.3 # probability of dropping a word vector\n",
    "---\n",
    "\n",
    "I chose lr:1e-2 since it seemed to be the best trade-off between training speed and accuracy.\n",
    "I chose to train for 30 epochs because I observed that the evaluation loss saturates around 30 epochs. Afterwards, the model starts to overfit the training data which hurts its generalization and its performance on the test data.\n",
    "I have experimented with hidden layer depths. Generally it seems to be indicating that increasing the depth could potentially yield better performance. On the other hand, increasing the depth increases computational complexity of the model and results in longer training times. I found that 2 hidden layers (depth 2) seems to be the sweep spot for my purposes.\n",
    "Since there are 5 classes, a random model would be 20% accurate. Seeing that our trained model yields higher accuracies indicates that model is doing better than randomly guessing. Also, reduction in the loss values along with increased accuracy indicates that model is indeed learning from data.\n",
    "We see that evaluation loss saturates (stops reducing), and training loss continues to decrease. This indicates that model is starting the overfit the training data when it is trained for longer epochs. To prevent this I have chosen epoch number which is around the epoch value that model start to overfit.\n",
    "I have trained on the dataset and picked the best pair of hyperparameters according to its performance on the evaluation dataset.\n",
    "I have tested the best chosen set of hyperparameters performance on the test dataset.\n",
    "I have checked pretrained word embeddings [\"glove-wiki-gigaword-200\", \"glove-twitter-200\"]. My experiments\n",
    "can be replicated by changing the value of 'chosen_embedding_name' variable to point one of these values.\n",
    "These word embeddings are trained on different corpuses (Twitter, Wikipedia). Word embeddings trained on wikipedia\n",
    "yielded the best results for the hyperparameters I have chosen. The results show that the corpus which the word\n",
    "embeddings are trained on does make a difference.\n",
    "Finally, the dropout regularization applied to the words in the sentences seem to perform best with dropout probability set to 0.3. Intuitively this custom dropout idea makes sense since, it should allow model to see more sentences during training by taking different combinations of the words from the given sentences. On the other hand, it did not improve the performance significantly when compared to the performance of the model trained by not using dropout."
   ]
  },
  {
   "cell_type": "markdown",
   "metadata": {},
   "source": [
    "# <font color=\"blue\"> Submission Instructions</font>\n",
    "\n",
    "1. Click the Save button at the top of the Jupyter Notebook.\n",
    "2. Select Cell -> All Output -> Clear. This will clear all the outputs from all cells (but will keep the content of all cells). \n",
    "3. Select Cell -> Run All. This will run all the cells in order, and will take several minutes.\n",
    "4. Download a .ipynb version of your notebook, please name this as username_assignment1.ipynb and submit it to Blackboard by the deadline."
   ]
  },
  {
   "cell_type": "markdown",
   "metadata": {},
   "source": [
    "*This assignment is adapted from Stanford [CS224n](http://web.stanford.edu/class/cs224n/)*"
   ]
  }
 ],
 "metadata": {
  "anaconda-cloud": {},
  "kernelspec": {
   "display_name": "comp541",
   "language": "python",
   "name": "comp541"
  },
  "language_info": {
   "codemirror_mode": {
    "name": "ipython",
    "version": 3
   },
   "file_extension": ".py",
   "mimetype": "text/x-python",
   "name": "python",
   "nbconvert_exporter": "python",
   "pygments_lexer": "ipython3",
   "version": "3.7.13"
  },
  "vscode": {
   "interpreter": {
    "hash": "0847cda728ef3e0f335e7e94b5a043d9a0fda1c620343fc6302f7013063303dc"
   }
  }
 },
 "nbformat": 4,
 "nbformat_minor": 2
}
